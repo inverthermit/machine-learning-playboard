{
 "cells": [
  {
   "cell_type": "markdown",
   "metadata": {},
   "source": [
    "# Artificial Neural Networks"
   ]
  },
  {
   "cell_type": "markdown",
   "metadata": {},
   "source": [
    "In this workshop we are going to implement a simple feed-forward artificial neural network (ANN) from scratch. The aim of this exercise is to give you a deeper understanding of how ANNs work \"under the hood\". Moreover, in this workshop, we are going to train an ANN for a classification task. Note that we do not have to come up with a particularly efficient ANN implementation (i.e., the one that works fast on large datasets). Rather our priority is to *develop code that works*, and is *easy to understand*. Also this exercise is not all about coding, but includes doing some simple maths too. "
   ]
  },
  {
   "cell_type": "code",
   "execution_count": 1,
   "metadata": {},
   "outputs": [
    {
     "name": "stdout",
     "output_type": "stream",
     "text": [
      "Populating the interactive namespace from numpy and matplotlib\n"
     ]
    }
   ],
   "source": [
    "%pylab inline\n",
    "import numpy as np\n",
    "import matplotlib.pyplot as plt"
   ]
  },
  {
   "cell_type": "markdown",
   "metadata": {},
   "source": [
    "## The Dataset"
   ]
  },
  {
   "cell_type": "markdown",
   "metadata": {},
   "source": [
    "We start with generating the data for binary classification. We are going to re-use a slightly modified dataset generation funciton from last week. The difference is that now the two classes are encoded as $0$ and $1$. In addition, we are not going to use collections any more."
   ]
  },
  {
   "cell_type": "code",
   "execution_count": 2,
   "metadata": {
    "collapsed": true
   },
   "outputs": [],
   "source": [
    "def generate_s_shaped_data(gap=3):\n",
    "    X = np.random.randn(80, 2)\n",
    "\n",
    "    X[10:20] += np.array([3, 4])\n",
    "    X[20:30] += np.array([0, 8])\n",
    "    X[30:40] += np.array([3, 12])\n",
    "\n",
    "    X[40:50] += np.array([gap, 0])\n",
    "    X[50:60] += np.array([3 + gap, 4])\n",
    "    X[60:70] += np.array([gap, 8])\n",
    "    X[70:80] += np.array([3 + gap, 12])\n",
    "\n",
    "    y = np.hstack([np.zeros(40), np.ones(40)])\n",
    "\n",
    "    return X, y"
   ]
  },
  {
   "cell_type": "markdown",
   "metadata": {},
   "source": [
    "We will use this function to generate data that is in general separable, but requires a non-linear separation boundary."
   ]
  },
  {
   "cell_type": "code",
   "execution_count": 3,
   "metadata": {},
   "outputs": [
    {
     "name": "stdout",
     "output_type": "stream",
     "text": [
      "[[  4.72200828e-01  -5.20273745e-01]\n",
      " [  7.06225642e-02  -5.51804176e-01]\n",
      " [ -1.56524758e+00  -3.09311176e-02]\n",
      " [  1.06412965e+00   5.44535386e-01]\n",
      " [  3.65865975e-02  -4.32522321e-01]\n",
      " [  2.87458759e-01  -2.74633094e-01]\n",
      " [ -6.33282799e-02   1.61481079e+00]\n",
      " [ -1.33074182e+00  -2.23309128e+00]\n",
      " [  8.91428262e-01  -5.94755305e-01]\n",
      " [  5.27024016e-01  -8.56279422e-01]\n",
      " [  1.59023654e+00   3.54817311e+00]\n",
      " [  2.87637766e+00   3.28021672e+00]\n",
      " [  4.38301666e+00   5.23609809e+00]\n",
      " [  3.25964999e+00   2.64921908e+00]\n",
      " [  1.51579590e+00   3.16687056e+00]\n",
      " [  7.32374080e-01   4.56798940e+00]\n",
      " [  2.16151668e+00   2.76158413e+00]\n",
      " [  3.02819876e+00   3.61661786e+00]\n",
      " [  3.43646759e+00   4.37934654e+00]\n",
      " [  1.41877211e+00   3.99398801e+00]\n",
      " [  4.05899205e-01   8.47720327e+00]\n",
      " [  1.27528904e+00   7.34183107e+00]\n",
      " [ -6.05211196e-01   8.62205025e+00]\n",
      " [  2.66558235e+00   7.82392978e+00]\n",
      " [  9.83450713e-01   8.43125827e+00]\n",
      " [  2.37330517e+00   5.71105917e+00]\n",
      " [ -2.39212459e-01   7.16802538e+00]\n",
      " [ -6.70377745e-01   8.49179189e+00]\n",
      " [  6.75777799e-01   8.29599553e+00]\n",
      " [  1.71214346e+00   9.09173267e+00]\n",
      " [  5.79645115e+00   1.12767649e+01]\n",
      " [  1.89155730e+00   1.23190864e+01]\n",
      " [  3.43369178e+00   1.11431416e+01]\n",
      " [  2.59240047e+00   1.31484557e+01]\n",
      " [  2.69981159e+00   1.25697010e+01]\n",
      " [  1.47199461e+00   1.17272462e+01]\n",
      " [  4.33531599e+00   1.17334344e+01]\n",
      " [  2.75056654e+00   1.28521410e+01]\n",
      " [  2.34791907e+00   1.12496523e+01]\n",
      " [  3.07776376e+00   1.22716410e+01]\n",
      " [  5.16046803e+00  -3.01498373e-01]\n",
      " [  4.10109323e+00   2.73060789e-01]\n",
      " [  3.65965781e+00   3.68645603e-01]\n",
      " [  4.30116633e+00   2.44420983e+00]\n",
      " [  4.79265759e+00  -2.46936614e+00]\n",
      " [  5.31579730e+00   1.05942405e-01]\n",
      " [  3.93581538e+00   5.15752421e-01]\n",
      " [  6.79965441e+00  -6.34130909e-01]\n",
      " [  5.30147840e+00  -3.81496483e-03]\n",
      " [  5.11295448e+00   1.78483313e+00]\n",
      " [  6.40895386e+00   3.92733405e+00]\n",
      " [  9.21065567e+00   3.12388530e+00]\n",
      " [  7.18534056e+00   5.14258328e+00]\n",
      " [  7.01267519e+00   2.03654218e+00]\n",
      " [  8.11475795e+00   2.73219701e+00]\n",
      " [  7.07264028e+00   3.03503693e+00]\n",
      " [  8.14744935e+00   3.88745587e+00]\n",
      " [  9.25881148e+00   4.34902910e+00]\n",
      " [  8.82624400e+00   3.61255982e+00]\n",
      " [  8.42856136e+00   5.46766524e+00]\n",
      " [  3.47462291e+00   8.62711125e+00]\n",
      " [  5.44560517e+00   8.56107584e+00]\n",
      " [  3.86708360e+00   9.73214154e+00]\n",
      " [  3.89189365e+00   6.71968360e+00]\n",
      " [  5.98113278e+00   1.01344649e+01]\n",
      " [  3.81130586e+00   8.14820599e+00]\n",
      " [  5.91981637e+00   7.39710532e+00]\n",
      " [  6.74389209e+00   9.47169058e+00]\n",
      " [  3.34629892e+00   7.29101496e+00]\n",
      " [  4.08755110e+00   8.82757383e+00]\n",
      " [  6.90181234e+00   1.28629008e+01]\n",
      " [  8.59642075e+00   1.07455784e+01]\n",
      " [  7.62698687e+00   1.19779995e+01]\n",
      " [  7.77448357e+00   1.27714097e+01]\n",
      " [  9.29458304e+00   1.14327460e+01]\n",
      " [  1.00864055e+01   1.20372427e+01]\n",
      " [  8.36248651e+00   1.06889970e+01]\n",
      " [  9.97633382e+00   1.35747246e+01]\n",
      " [  8.43076030e+00   1.14229775e+01]\n",
      " [  7.80672561e+00   1.29132102e+01]]\n"
     ]
    },
    {
     "data": {
      "text/plain": [
       "[<matplotlib.lines.Line2D at 0x196243d1828>]"
      ]
     },
     "execution_count": 3,
     "metadata": {},
     "output_type": "execute_result"
    },
    {
     "data": {
      "image/png": "[encoded data removed]",
      "text/plain": [
       "<matplotlib.figure.Figure at 0x196243d1898>"
      ]
     },
     "metadata": {},
     "output_type": "display_data"
    }
   ],
   "source": [
    "X,y = generate_s_shaped_data(5)\n",
    "print(X)\n",
    "plt.plot(X[y==0,0], X[y==0,1], \"o\")\n",
    "plt.plot(X[y==1,0], X[y==1,1], \"o\")"
   ]
  },
  {
   "cell_type": "markdown",
   "metadata": {},
   "source": [
    "## The Model"
   ]
  },
  {
   "cell_type": "markdown",
   "metadata": {},
   "source": [
    "Next, we define a particular ANN configuration that we are going to implement (see the figure below). We are working with two-dimensional input, hence two input units. Furthermore, we are going to do binary classification, for which one output unit would be sufficient. However, just to try backpropagation with multidimensional output, we are going to use two output units and their values will be indicative of conditional probabilities of each class $P(y=class_i|\\bf{x},\\bf{v},\\bf{w})$. Finally, the number of hidden units $p$ will be provided by the user."
   ]
  },
  {
   "cell_type": "markdown",
   "metadata": {},
   "source": [
    "![](http://www.andreykan.com/stuff/workshop5-ann.png)"
   ]
  },
  {
   "cell_type": "markdown",
   "metadata": {},
   "source": [
    "The equations define how the model is computed. Here $\\sigma$ denotes logistic function. The derivatives are not used during model computation (forward computation), but we are going to need the soon during training. We are going to implement this ANN. Note that you can use *tanh* funciton from numpy, but we need to implement the logistic function."
   ]
  },
  {
   "cell_type": "code",
   "execution_count": 4,
   "metadata": {
    "collapsed": true
   },
   "outputs": [],
   "source": [
    "def logistic(s):\n",
    "    # ... your code here ...\n",
    "    return 1/(1+math.e**(-s))"
   ]
  },
  {
   "cell_type": "markdown",
   "metadata": {},
   "source": [
    "First, let's implement the forward computation for a single instance given some parameter values. Note that this function returns the output layer values."
   ]
  },
  {
   "cell_type": "code",
   "execution_count": 5,
   "metadata": {
    "collapsed": true
   },
   "outputs": [],
   "source": [
    "# x is a 2 element input representing a single training instance;\n",
    "#\n",
    "# V is a matrix with 3 rows and p columns, where the three rows\n",
    "#     correspond to the bias and weights for the two inputs,\n",
    "#     and columns correspond to hidden units;\n",
    "#\n",
    "# W is a matrix with (p+1) rows and 2 columns, where the rows\n",
    "#     correspond to the bias and p hidden units, and columns\n",
    "#     correspond to output elements;\n",
    "#\n",
    "# returns: a two element output layer, and a vector of hidden\n",
    "#          node values with (p+1) elements, where the first\n",
    "#          element is constant 1\n",
    "#\n",
    "def compute_forward(x,V,W):\n",
    "\n",
    "    # append input, so that the bias can be handled naturally\n",
    "    x_ext = np.append(1, x)\n",
    "\n",
    "    # get the number of hidden units\n",
    "    p = V.shape[1]\n",
    "    u = np.zeros((p))\n",
    "\n",
    "    # iterate over hidden units\n",
    "    for i in range(p):\n",
    "        print(x_ext)\n",
    "        \n",
    "        u[i] = np.tanh(sum(x_ext, V[i]))# ... your code here ...\n",
    "\n",
    "    # append hidden layer, so that the bias can be handled naturally\n",
    "    u_ext = np.append(1, u)\n",
    "\n",
    "    # set the outputs\n",
    "    z = np.zeros((2))\n",
    "    \n",
    "    z[0] = logistic(np.dot(u_ext[0],W[0]))# ... over to you ...\n",
    "    z[1] = logistic(np.dot(u_ext[1],W[1]))# ... over to you ...\n",
    "\n",
    "    return z, u_ext"
   ]
  },
  {
   "cell_type": "markdown",
   "metadata": {},
   "source": [
    "Next, let's implement a function that makes predictions based on the output layer values. This function is going to make predictions for the entire dataset. After implementing these two functions, you might like to play with toy data and manually picked parameter values just to validate the implementation."
   ]
  },
  {
   "cell_type": "code",
   "execution_count": 6,
   "metadata": {},
   "outputs": [
    {
     "name": "stdout",
     "output_type": "stream",
     "text": [
      "(80, 2)\n",
      "(3, 2)\n",
      "[[-0.95084488 -2.14751514]\n",
      " [-0.83836777 -0.48998513]\n",
      " [-0.07830811  1.20760761]]\n",
      "[ 1.          0.47220083 -0.52027375]\n"
     ]
    },
    {
     "ename": "TypeError",
     "evalue": "only integer scalar arrays can be converted to a scalar index",
     "output_type": "error",
     "traceback": [
      "\u001b[1;31m---------------------------------------------------------------------------\u001b[0m",
      "\u001b[1;31mTypeError\u001b[0m                                 Traceback (most recent call last)",
      "\u001b[1;32m<ipython-input-6-47545136fc8a>\u001b[0m in \u001b[0;36m<module>\u001b[1;34m()\u001b[0m\n\u001b[0;32m     21\u001b[0m \u001b[0mprint\u001b[0m\u001b[1;33m(\u001b[0m\u001b[0mV0\u001b[0m\u001b[1;33m.\u001b[0m\u001b[0mshape\u001b[0m\u001b[1;33m)\u001b[0m\u001b[1;33m\u001b[0m\u001b[0m\n\u001b[0;32m     22\u001b[0m \u001b[0mprint\u001b[0m\u001b[1;33m(\u001b[0m\u001b[0mW0\u001b[0m\u001b[1;33m)\u001b[0m\u001b[1;33m\u001b[0m\u001b[0m\n\u001b[1;32m---> 23\u001b[1;33m \u001b[0my_pred\u001b[0m \u001b[1;33m=\u001b[0m \u001b[0mann_predict\u001b[0m\u001b[1;33m(\u001b[0m\u001b[0mX\u001b[0m\u001b[1;33m,\u001b[0m\u001b[0mV0\u001b[0m\u001b[1;33m,\u001b[0m\u001b[0mW0\u001b[0m\u001b[1;33m)\u001b[0m\u001b[1;33m\u001b[0m\u001b[0m\n\u001b[0m",
      "\u001b[1;32m<ipython-input-6-47545136fc8a>\u001b[0m in \u001b[0;36mann_predict\u001b[1;34m(X, V, W)\u001b[0m\n\u001b[0;32m     11\u001b[0m \u001b[1;33m\u001b[0m\u001b[0m\n\u001b[0;32m     12\u001b[0m     \u001b[1;32mfor\u001b[0m \u001b[0mi\u001b[0m \u001b[1;32min\u001b[0m \u001b[0mrange\u001b[0m\u001b[1;33m(\u001b[0m\u001b[0mnum_examples\u001b[0m\u001b[1;33m)\u001b[0m\u001b[1;33m:\u001b[0m\u001b[1;33m\u001b[0m\u001b[0m\n\u001b[1;32m---> 13\u001b[1;33m         \u001b[0my_pred\u001b[0m\u001b[1;33m[\u001b[0m\u001b[0mi\u001b[0m\u001b[1;33m]\u001b[0m \u001b[1;33m=\u001b[0m \u001b[0mcompute_forward\u001b[0m\u001b[1;33m(\u001b[0m\u001b[0mX\u001b[0m\u001b[1;33m[\u001b[0m\u001b[0mi\u001b[0m\u001b[1;33m]\u001b[0m\u001b[1;33m,\u001b[0m\u001b[0mV\u001b[0m\u001b[1;33m,\u001b[0m\u001b[0mW\u001b[0m\u001b[1;33m)\u001b[0m\u001b[1;31m# ... over to you\u001b[0m\u001b[1;33m\u001b[0m\u001b[0m\n\u001b[0m\u001b[0;32m     14\u001b[0m \u001b[1;33m\u001b[0m\u001b[0m\n\u001b[0;32m     15\u001b[0m     \u001b[1;32mreturn\u001b[0m \u001b[0my_pred\u001b[0m\u001b[1;33m\u001b[0m\u001b[0m\n",
      "\u001b[1;32m<ipython-input-5-ce5e9e1b6687>\u001b[0m in \u001b[0;36mcompute_forward\u001b[1;34m(x, V, W)\u001b[0m\n\u001b[0;32m     26\u001b[0m         \u001b[0mprint\u001b[0m\u001b[1;33m(\u001b[0m\u001b[0mx_ext\u001b[0m\u001b[1;33m)\u001b[0m\u001b[1;33m\u001b[0m\u001b[0m\n\u001b[0;32m     27\u001b[0m \u001b[1;33m\u001b[0m\u001b[0m\n\u001b[1;32m---> 28\u001b[1;33m         \u001b[0mu\u001b[0m\u001b[1;33m[\u001b[0m\u001b[0mi\u001b[0m\u001b[1;33m]\u001b[0m \u001b[1;33m=\u001b[0m \u001b[0mnp\u001b[0m\u001b[1;33m.\u001b[0m\u001b[0mtanh\u001b[0m\u001b[1;33m(\u001b[0m\u001b[0msum\u001b[0m\u001b[1;33m(\u001b[0m\u001b[0mx_ext\u001b[0m\u001b[1;33m,\u001b[0m \u001b[0mV\u001b[0m\u001b[1;33m[\u001b[0m\u001b[0mi\u001b[0m\u001b[1;33m]\u001b[0m\u001b[1;33m)\u001b[0m\u001b[1;33m)\u001b[0m\u001b[1;31m# ... your code here ...\u001b[0m\u001b[1;33m\u001b[0m\u001b[0m\n\u001b[0m\u001b[0;32m     29\u001b[0m \u001b[1;33m\u001b[0m\u001b[0m\n\u001b[0;32m     30\u001b[0m     \u001b[1;31m# append hidden layer, so that the bias can be handled naturally\u001b[0m\u001b[1;33m\u001b[0m\u001b[1;33m\u001b[0m\u001b[0m\n",
      "\u001b[1;32md:\\python35\\lib\\site-packages\\numpy\\core\\fromnumeric.py\u001b[0m in \u001b[0;36msum\u001b[1;34m(a, axis, dtype, out, keepdims)\u001b[0m\n\u001b[0;32m   1832\u001b[0m             \u001b[1;32mreturn\u001b[0m \u001b[0msum\u001b[0m\u001b[1;33m(\u001b[0m\u001b[0maxis\u001b[0m\u001b[1;33m=\u001b[0m\u001b[0maxis\u001b[0m\u001b[1;33m,\u001b[0m \u001b[0mdtype\u001b[0m\u001b[1;33m=\u001b[0m\u001b[0mdtype\u001b[0m\u001b[1;33m,\u001b[0m \u001b[0mout\u001b[0m\u001b[1;33m=\u001b[0m\u001b[0mout\u001b[0m\u001b[1;33m,\u001b[0m \u001b[1;33m**\u001b[0m\u001b[0mkwargs\u001b[0m\u001b[1;33m)\u001b[0m\u001b[1;33m\u001b[0m\u001b[0m\n\u001b[0;32m   1833\u001b[0m     return _methods._sum(a, axis=axis, dtype=dtype,\n\u001b[1;32m-> 1834\u001b[1;33m                          out=out, **kwargs)\n\u001b[0m\u001b[0;32m   1835\u001b[0m \u001b[1;33m\u001b[0m\u001b[0m\n\u001b[0;32m   1836\u001b[0m \u001b[1;33m\u001b[0m\u001b[0m\n",
      "\u001b[1;32md:\\python35\\lib\\site-packages\\numpy\\core\\_methods.py\u001b[0m in \u001b[0;36m_sum\u001b[1;34m(a, axis, dtype, out, keepdims)\u001b[0m\n\u001b[0;32m     30\u001b[0m \u001b[1;33m\u001b[0m\u001b[0m\n\u001b[0;32m     31\u001b[0m \u001b[1;32mdef\u001b[0m \u001b[0m_sum\u001b[0m\u001b[1;33m(\u001b[0m\u001b[0ma\u001b[0m\u001b[1;33m,\u001b[0m \u001b[0maxis\u001b[0m\u001b[1;33m=\u001b[0m\u001b[1;32mNone\u001b[0m\u001b[1;33m,\u001b[0m \u001b[0mdtype\u001b[0m\u001b[1;33m=\u001b[0m\u001b[1;32mNone\u001b[0m\u001b[1;33m,\u001b[0m \u001b[0mout\u001b[0m\u001b[1;33m=\u001b[0m\u001b[1;32mNone\u001b[0m\u001b[1;33m,\u001b[0m \u001b[0mkeepdims\u001b[0m\u001b[1;33m=\u001b[0m\u001b[1;32mFalse\u001b[0m\u001b[1;33m)\u001b[0m\u001b[1;33m:\u001b[0m\u001b[1;33m\u001b[0m\u001b[0m\n\u001b[1;32m---> 32\u001b[1;33m     \u001b[1;32mreturn\u001b[0m \u001b[0mumr_sum\u001b[0m\u001b[1;33m(\u001b[0m\u001b[0ma\u001b[0m\u001b[1;33m,\u001b[0m \u001b[0maxis\u001b[0m\u001b[1;33m,\u001b[0m \u001b[0mdtype\u001b[0m\u001b[1;33m,\u001b[0m \u001b[0mout\u001b[0m\u001b[1;33m,\u001b[0m \u001b[0mkeepdims\u001b[0m\u001b[1;33m)\u001b[0m\u001b[1;33m\u001b[0m\u001b[0m\n\u001b[0m\u001b[0;32m     33\u001b[0m \u001b[1;33m\u001b[0m\u001b[0m\n\u001b[0;32m     34\u001b[0m \u001b[1;32mdef\u001b[0m \u001b[0m_prod\u001b[0m\u001b[1;33m(\u001b[0m\u001b[0ma\u001b[0m\u001b[1;33m,\u001b[0m \u001b[0maxis\u001b[0m\u001b[1;33m=\u001b[0m\u001b[1;32mNone\u001b[0m\u001b[1;33m,\u001b[0m \u001b[0mdtype\u001b[0m\u001b[1;33m=\u001b[0m\u001b[1;32mNone\u001b[0m\u001b[1;33m,\u001b[0m \u001b[0mout\u001b[0m\u001b[1;33m=\u001b[0m\u001b[1;32mNone\u001b[0m\u001b[1;33m,\u001b[0m \u001b[0mkeepdims\u001b[0m\u001b[1;33m=\u001b[0m\u001b[1;32mFalse\u001b[0m\u001b[1;33m)\u001b[0m\u001b[1;33m:\u001b[0m\u001b[1;33m\u001b[0m\u001b[0m\n",
      "\u001b[1;31mTypeError\u001b[0m: only integer scalar arrays can be converted to a scalar index"
     ]
    }
   ],
   "source": [
    "# X is a matrix with N rows and 2 columns, where\n",
    "#     rows represent training instances\n",
    "#\n",
    "# V and W have the same interpretation as in compute_forward()\n",
    "#\n",
    "# returns: an N element vector with predictions (0 or 1 each)\n",
    "#\n",
    "def ann_predict(X,V,W):\n",
    "    num_examples = X.shape[0]\n",
    "    y_pred = np.zeros(num_examples)\n",
    "\n",
    "    for i in range(num_examples):\n",
    "        y_pred[i] = compute_forward(X[i],V,W)# ... over to you\n",
    "\n",
    "    return y_pred\n",
    "#from numpy.random import randn\n",
    "p = 2\n",
    "V0 = np.random.randn(3, p)\n",
    "W0 = np.random.randn(p + 1, 2)\n",
    "print(X.shape)\n",
    "print(V0.shape)\n",
    "print(W0)\n",
    "y_pred = ann_predict(X,V0,W0)"
   ]
  },
  {
   "cell_type": "markdown",
   "metadata": {},
   "source": [
    "## Training the ANN"
   ]
  },
  {
   "cell_type": "markdown",
   "metadata": {},
   "source": [
    "### Loss Function"
   ]
  },
  {
   "cell_type": "markdown",
   "metadata": {},
   "source": [
    "Now that we have a model, we need to develop a training algorithm. Recall that the idea is to define a loss function and then find parameter values that minimise the loss."
   ]
  },
  {
   "cell_type": "markdown",
   "metadata": {},
   "source": [
    "Each training example comes with a true label which is either $0$ or $1$. For convenicence, we are going to encode the label as a two-component vector $\\bf{y}$, such that only one of the components is one and another one is zero. Moreover, we will make a simplifying assumption that the two components are independent to get $$P\\left(\\bf{y}|\\bf{x},\\bf{V},\\bf{W}\\right)=\\prod\\limits_{k=1,2}z_k\\left(\\bf{x},\\bf{V},\\bf{W}\\right)^{y_k}\\left(1 - z_k\\left(\\bf{x},\\bf{V},\\bf{W}\\right)\\right)^{1-y_k}$$"
   ]
  },
  {
   "cell_type": "markdown",
   "metadata": {},
   "source": [
    "This is clearly a wrong assumption, but it is going to be good enough for us to get an ANN working. This assumption can be dropped by using an additional special layer called *soft-max layer*, but this is beyond the scope of this tutorial."
   ]
  },
  {
   "cell_type": "markdown",
   "metadata": {},
   "source": [
    "Taking the algorithm of this probability and inverting the sign, so that maximising probability leads to minimising the loss, gives us cross-entropy loss (for a single training example) $$l\\left(\\bf{V},\\bf{W}\\right)=-\\sum\\limits_{k=1,2}y_kln(z_k)+(1-y_k)ln\\left(1 - z_k\\right)$$"
   ]
  },
  {
   "cell_type": "markdown",
   "metadata": {},
   "source": [
    "Implement a function that computes the loss for a single training example and true label encoded as vector $\\bf{y}$."
   ]
  },
  {
   "cell_type": "code",
   "execution_count": null,
   "metadata": {
    "collapsed": true
   },
   "outputs": [],
   "source": [
    "# x, V and W have the same interpretation as in compute_forward()\n",
    "#\n",
    "# y is a two element encoding of a binary label, either t[0] = 1\n",
    "#     and t[1] = 0, or the other way around\n",
    "#\n",
    "# returns: loss for a given training example and parameters\n",
    "#\n",
    "def compute_loss(x,y,V,W):\n",
    "    # ... your code here ...\n",
    "    return l"
   ]
  },
  {
   "cell_type": "markdown",
   "metadata": {},
   "source": [
    "### Backpropagation"
   ]
  },
  {
   "cell_type": "markdown",
   "metadata": {},
   "source": [
    "We are going to use stochastic gradient descent, and in each iteration of this algorithm we need to compute parameter updates. The updates are based on partial derivatives $\\frac{\\partial l}{\\partial v_{ij}}$ and $\\frac{\\partial l}{\\partial w_{jk}}$. We are going to compute these derivatives using auxiliary quantities $\\delta_k$ and $\\varepsilon_{jk}$. Note that the multidimensional output, $\\varepsilon_{jk}$, has two indices. Also note that the equations below assume that $x$ is a three-dimensional vector, after appending with a constant one to capture the bias, and, similarly, that $u$ is a $(p+1)$-dimensional vector with the first element constant one."
   ]
  },
  {
   "cell_type": "markdown",
   "metadata": {},
   "source": [
    "Let $l_k=-y_kln(z_k)-(1-y_k)ln\\left(1 - z_k\\right)$. The auxiliary quantities are $\\delta_k=\\frac{\\partial l}{\\partial s_k}$ and $\\varepsilon_{jk}=\\frac{\\partial l_k}{\\partial r_j}$. Use the identities provided in the ANN figure above to verify that"
   ]
  },
  {
   "cell_type": "markdown",
   "metadata": {},
   "source": [
    "$\\delta_k=\\frac{\\partial l_k}{\\partial z_k}\\frac{\\partial z_k}{\\partial s_k}=(z_k-y_k)$"
   ]
  },
  {
   "cell_type": "markdown",
   "metadata": {},
   "source": [
    "$\\frac{\\partial l}{\\partial w_{jk}}=\\delta_ku_{j}$"
   ]
  },
  {
   "cell_type": "markdown",
   "metadata": {},
   "source": [
    "$\\varepsilon_{jk}=\\frac{\\partial l_k}{\\partial z_k}\\frac{\\partial z_k}{\\partial s_k}\\frac{\\partial s_k}{\\partial u_j}\\frac{\\partial u_j}{\\partial r_j}=\\delta_k(1-u^2_j)w_{jk}$"
   ]
  },
  {
   "cell_type": "markdown",
   "metadata": {},
   "source": [
    "$\\frac{\\partial l}{\\partial v_{ij}}=\\frac{\\partial l_1}{\\partial v_{ij}}+\\frac{\\partial l_2}{\\partial v_{ij}}=\\varepsilon_{j1}x_i+\\varepsilon_{j2}x_i$"
   ]
  },
  {
   "cell_type": "markdown",
   "metadata": {},
   "source": [
    "Now use these equations to implement a single update step."
   ]
  },
  {
   "cell_type": "code",
   "execution_count": null,
   "metadata": {
    "collapsed": true
   },
   "outputs": [],
   "source": [
    "# x, V and W have the same interpretation as in compute_forward()\n",
    "#\n",
    "# y has the same interpretation as in compute_loss()\n",
    "#\n",
    "# returns: updated estimates of V and W\n",
    "#\n",
    "def update_params(x,y,V,W,eta):\n",
    "    ### forward computation\n",
    "    z, u_ext = compute_forward(x,V,W)\n",
    "\n",
    "    # ... over to you\n",
    "    ## use backpropagation equations to compute dV and dW\n",
    "\n",
    "    V += -eta*dV\n",
    "    W += -eta*dW\n",
    "\n",
    "    return V,W"
   ]
  },
  {
   "cell_type": "markdown",
   "metadata": {},
   "source": [
    "And finally use the single update step in a function that performs training."
   ]
  },
  {
   "cell_type": "code",
   "execution_count": null,
   "metadata": {
    "collapsed": true
   },
   "outputs": [],
   "source": [
    "# X is a matrix with N rows and 2 columns, where\n",
    "#     rows represent training instances\n",
    "#\n",
    "# V0 and W0 are starting parameter values\n",
    "# as before, V0 is a matrix with 3 rows and p columns, where\n",
    "#     the three rows correspond to the bias and weights for\n",
    "#     the two inputs, and columns correspond to hidden units;\n",
    "#\n",
    "# W0 is a matrix with (p+1) rows and 2 columns, where the rows\n",
    "#     correspond to the bias and p hidden units, and columns\n",
    "#     correspond to output elements;\n",
    "#\n",
    "# y is an N element array of true labels\n",
    "#\n",
    "# returns: trained values for V and W, as well as total loss\n",
    "#          after each training epoch\n",
    "#\n",
    "def ann_train(X,y,V0,W0):\n",
    "    # use starting values\n",
    "    V = V0\n",
    "    W = W0\n",
    "\n",
    "    # step scale; note that this is usually changed (decreased)\n",
    "    # between iterations, but we won't bother here\n",
    "    eta = 0.01\n",
    "\n",
    "    # number of rounds over the data\n",
    "    num_epochs = 50\n",
    "\n",
    "    # number of training examples\n",
    "    num_examples = X.shape[0]\n",
    "\n",
    "    # calculate total loss in each epoch\n",
    "    l_total = np.zeros(num_epochs)\n",
    "\n",
    "    # make several rounds over the data\n",
    "    for j in range(num_epochs):\n",
    "        # iterate trough each training example\n",
    "        l_total[j] = 0\n",
    "        for i in range(num_examples):\n",
    "            curr_x = X[i,:]\n",
    "            curr_y = np.zeros(2)\n",
    "            curr_y[0] = (y[i] == 0)\n",
    "            curr_y[1] = 1 - curr_y[0]\n",
    "            V,W = update_params(curr_x,curr_y,V,W,eta)\n",
    "            l_total[j] += compute_loss(curr_x,curr_y,V,W)\n",
    "\n",
    "    return V,W,l_total"
   ]
  },
  {
   "cell_type": "markdown",
   "metadata": {},
   "source": [
    "Let's try everything in action! We will start from some randomly generated parameters, perform training and compare the accuracy before and after the training. *Why not start with all parameters equal to zero?*"
   ]
  },
  {
   "cell_type": "code",
   "execution_count": null,
   "metadata": {
    "collapsed": true
   },
   "outputs": [],
   "source": [
    "# number of hidden units\n",
    "p = 5\n",
    "\n",
    "# initialisation\n",
    "V0 = np.random.randn(3, p)\n",
    "W0 = np.random.randn(p + 1, 2)\n",
    "\n",
    "y_pred = ann_predict(X,V0,W0)\n",
    "print('Proportion misclassified:')\n",
    "prop = 1 - np.sum(y_pred == y) / float(y.shape[0])\n",
    "if prop > 0.5:\n",
    "    prop = 1 - prop\n",
    "print(prop)\n",
    "\n",
    "\n",
    "V,W,l_total = ann_train(X,y,V0,W0)\n",
    "\n",
    "plt.figure()\n",
    "plt.plot(range(l_total.shape[0]), l_total, '.-')\n",
    "\n",
    "y_pred = ann_predict(X,V,W)\n",
    "print('Proportion misclassified:')\n",
    "prop = 1 - np.sum(y_pred == y) / float(y.shape[0])\n",
    "if prop > 0.5:\n",
    "    prop = 1 - prop\n",
    "print(prop)"
   ]
  },
  {
   "cell_type": "markdown",
   "metadata": {},
   "source": [
    "Note that our training procedure is not regularised. A natural next step would be to introduce regularisation weighted by $\\lambda$, and estimate training meta-parameters, such as $p$, $\\eta$, *number of epochs* and $\\lambda$ using heldout validation. Another direction for future work is extending this ANN for multi-label classifictation."
   ]
  },
  {
   "cell_type": "code",
   "execution_count": null,
   "metadata": {
    "collapsed": true
   },
   "outputs": [],
   "source": []
  }
 ],
 "metadata": {
  "kernelspec": {
   "display_name": "Python 3",
   "language": "python",
   "name": "python3"
  },
  "language_info": {
   "codemirror_mode": {
    "name": "ipython",
    "version": 3
   },
   "file_extension": ".py",
   "mimetype": "text/x-python",
   "name": "python",
   "nbconvert_exporter": "python",
   "pygments_lexer": "ipython3",
   "version": "3.5.3"
  }
 },
 "nbformat": 4,
 "nbformat_minor": 1
}
