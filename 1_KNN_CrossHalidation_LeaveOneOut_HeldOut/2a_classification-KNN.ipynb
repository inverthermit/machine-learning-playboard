{
 "cells": [
  {
   "cell_type": "markdown",
   "metadata": {},
   "source": [
    "SML-17 Workshop #2: 2a The k nearest neighbour algorithm (kNN)"
   ]
  },
  {
   "cell_type": "code",
   "execution_count": 1,
   "metadata": {},
   "outputs": [
    {
     "name": "stdout",
     "output_type": "stream",
     "text": [
      "Populating the interactive namespace from numpy and matplotlib\n"
     ]
    }
   ],
   "source": [
    "%pylab inline\n",
    "import numpy as np\n",
    "import matplotlib.pyplot as plt"
   ]
  },
  {
   "cell_type": "markdown",
   "metadata": {},
   "source": [
    "#### Training data"
   ]
  },
  {
   "cell_type": "markdown",
   "metadata": {},
   "source": [
    "Let's prepare the data which contains two classes, each is drawn from gaussians about two centres, as follows:"
   ]
  },
  {
   "cell_type": "code",
   "execution_count": 2,
   "metadata": {
    "collapsed": true
   },
   "outputs": [],
   "source": [
    "x = 0.4 * np.random.randn(40, 2) # gaussian points 40 x 2\n",
    "x[0:10] += np.array([1, 0]) \n",
    "x[10:20] += np.array([0, 1]) \n",
    "x[20:30] += np.array([0, 0]) \n",
    "x[30:40] += np.array([1, 1]) \n",
    "t = np.hstack([-np.ones(20), np.ones(20)]) # target vector 1 x 40"
   ]
  },
  {
   "cell_type": "code",
   "execution_count": 3,
   "metadata": {},
   "outputs": [
    {
     "name": "stdout",
     "output_type": "stream",
     "text": [
      "(40, 2) 0.440288825801 0.324341054575 -0.60063925167 1.51049813783\n",
      "(40,) 0.0 1.0 -1.0 1.0\n"
     ]
    },
    {
     "data": {
      "image/png": "[encoded data removed]",
      "text/plain": [
       "<matplotlib.figure.Figure at 0x813bbe0>"
      ]
     },
     "metadata": {},
     "output_type": "display_data"
    }
   ],
   "source": [
    "plt.plot(x[t==-1,0], x[t==-1,1], 'b.')\n",
    "plt.plot(x[t==1,0], x[t==1,1], 'r.')\n",
    "print(x.shape, np.mean(x), np.var(x), np.min(x), np.max(x))\n",
    "print(t.shape, np.mean(t), np.var(t), np.min(t), np.max(t))"
   ]
  },
  {
   "cell_type": "markdown",
   "metadata": {},
   "source": [
    "#### K Nearest Neighbours"
   ]
  },
  {
   "cell_type": "markdown",
   "metadata": {},
   "source": [
    "An important classifier is the *k-nearest neighbour* classifier, which is probably the simplest approach both conceptually and in terms of implementation. It works by considered for each test point nearby points in the training set, and returns their majority label. The value of *k* selects how many neighbours to consider. Another important setting choice of the distance metric, used to measure how close each point is to other points.\n",
    "\n",
    "Let's start by defining a function *euclidean* to calculate the euclidean distance, $d(\\mathbf{x}, \\mathbf{z}) = \\sqrt{(\\mathbf{x} - \\mathbf{z})^T (\\mathbf{x} - \\mathbf{z})}$."
   ]
  },
  {
   "cell_type": "code",
   "execution_count": 4,
   "metadata": {
    "collapsed": true
   },
   "outputs": [],
   "source": [
    "def euclidean(x, z):\n",
    "    d = x - z\n",
    "    if len(d.shape) > 1 and d.shape[1] > 1:\n",
    "        return np.sqrt(np.diag(np.dot(d, d.T)))\n",
    "    else:\n",
    "        return np.sqrt(np.dot(d, d))"
   ]
  },
  {
   "cell_type": "markdown",
   "metadata": {},
   "source": [
    "In the next five cells, we will trace the output of the euclidean distance with slight introduction about dealing with vectors using numpy module. Note: skip the n ext five cells if you are familiar with Python syntax."
   ]
  },
  {
   "cell_type": "code",
   "execution_count": 5,
   "metadata": {},
   "outputs": [
    {
     "data": {
      "text/plain": [
       "1.4142135623730951"
      ]
     },
     "execution_count": 5,
     "metadata": {},
     "output_type": "execute_result"
    }
   ],
   "source": [
    "euclidean(np.array([0,0]), np.array([1,1]))"
   ]
  },
  {
   "cell_type": "code",
   "execution_count": 6,
   "metadata": {},
   "outputs": [
    {
     "name": "stdout",
     "output_type": "stream",
     "text": [
      "[ 1.41421356  1.          0.70710678]\n"
     ]
    }
   ],
   "source": [
    "tmp = euclidean(np.array([[0,0],[1,0], [0.5,0.5]]), np.array([1,1]))\n",
    "print(tmp)"
   ]
  },
  {
   "cell_type": "code",
   "execution_count": 7,
   "metadata": {},
   "outputs": [
    {
     "data": {
      "text/plain": [
       "array([ 0.70710678,  1.        ,  1.41421356])"
      ]
     },
     "execution_count": 7,
     "metadata": {},
     "output_type": "execute_result"
    }
   ],
   "source": [
    "np.sort(tmp) # sorted vector "
   ]
  },
  {
   "cell_type": "code",
   "execution_count": 8,
   "metadata": {},
   "outputs": [
    {
     "data": {
      "text/plain": [
       "array([2, 1, 0], dtype=int64)"
      ]
     },
     "execution_count": 8,
     "metadata": {},
     "output_type": "execute_result"
    }
   ],
   "source": [
    "np.argsort(tmp) # indices of sorted vector"
   ]
  },
  {
   "cell_type": "code",
   "execution_count": 9,
   "metadata": {},
   "outputs": [
    {
     "data": {
      "text/plain": [
       "array([2, 1], dtype=int64)"
      ]
     },
     "execution_count": 9,
     "metadata": {},
     "output_type": "execute_result"
    }
   ],
   "source": [
    "np.argsort(tmp)[:2]"
   ]
  },
  {
   "cell_type": "markdown",
   "metadata": {},
   "source": [
    "Next, define a function to find nearby training points for a given test point under the euclidean distance."
   ]
  },
  {
   "cell_type": "code",
   "execution_count": 10,
   "metadata": {
    "collapsed": true
   },
   "outputs": [],
   "source": [
    "def neighbours(x, train_x, k):\n",
    "    # IMPLEMENT ME to return the indices of the k closest elements to x in train_x"
   ]
  },
  {
   "cell_type": "markdown",
   "metadata": {},
   "source": [
    "Now define the *k-NN* prediction algorithm, which processes each test point and finds the majority class of its neighbours in the training set."
   ]
  },
  {
   "cell_type": "code",
   "execution_count": 12,
   "metadata": {
    "collapsed": true
   },
   "outputs": [],
   "source": [
    "def knn(test_x, train_x, train_t, k):\n",
    "    predict = np.zeros(test_x.shape[0]) # num of testing samples (i.e. # of rows)\n",
    "    for i in range(test_x.shape[0]):  \n",
    "        # IMPLEMENT ME to return class label of each sample in test_x using train_x\n",
    "    return predict"
   ]
  },
  {
   "cell_type": "code",
   "execution_count": 13,
   "metadata": {},
   "outputs": [
    {
     "data": {
      "text/plain": [
       "array([ 1., -1., -1., -1., -1., -1.,  1., -1., -1.,  1., -1., -1., -1.,\n",
       "       -1., -1.,  1., -1., -1., -1., -1.,  1.,  1., -1.,  1.,  1.,  1.,\n",
       "        1., -1.,  1.,  1.,  1.,  1.,  1.,  1.,  1., -1.,  1.,  1.,  1.,  1.])"
      ]
     },
     "execution_count": 13,
     "metadata": {},
     "output_type": "execute_result"
    }
   ],
   "source": [
    "knn(x, x, t, 3)"
   ]
  },
  {
   "cell_type": "markdown",
   "metadata": {},
   "source": [
    "Evaluate the predictions on the training set (this is now a **really** bad idea, can you explain why?) and the test set. How does the choice of *k* affect the accuracy?"
   ]
  },
  {
   "cell_type": "markdown",
   "metadata": {},
   "source": [
    "Finally, plot the decision boundaries. How does the choice of k affect the boundary?"
   ]
  },
  {
   "cell_type": "code",
   "execution_count": 14,
   "metadata": {},
   "outputs": [
    {
     "data": {
      "text/plain": [
       "[<matplotlib.lines.Line2D at 0x7cefd68>]"
      ]
     },
     "execution_count": 14,
     "metadata": {},
     "output_type": "execute_result"
    },
    {
     "data": {
      "image/png": "[encoded data removed]",
      "text/plain": [
       "<matplotlib.figure.Figure at 0x803f518>"
      ]
     },
     "metadata": {},
     "output_type": "display_data"
    }
   ],
   "source": [
    "X1, X2 = np.meshgrid(np.arange(-0.7, 1.7, 0.025), np.arange(-0.7, 1.7, 0.025))\n",
    "X12 = np.column_stack([X1.flatten(), X2.flatten()])\n",
    "Y = knn(X12, x, t, 1)\n",
    "cs = plt.contour(X1, X2, Y.reshape(X1.shape), levels=[0]) \n",
    "plt.plot(x[t==-1,0], x[t==-1,1], 'o')\n",
    "plt.plot(x[t==1,0], x[t==1,1], 'o')"
   ]
  },
  {
   "cell_type": "code",
   "execution_count": null,
   "metadata": {
    "collapsed": true
   },
   "outputs": [],
   "source": []
  }
 ],
 "metadata": {
  "anaconda-cloud": {},
  "kernelspec": {
   "display_name": "Python 3",
   "language": "python",
   "name": "python3"
  },
  "language_info": {
   "codemirror_mode": {
    "name": "ipython",
    "version": 3
   },
   "file_extension": ".py",
   "mimetype": "text/x-python",
   "name": "python",
   "nbconvert_exporter": "python",
   "pygments_lexer": "ipython3",
   "version": "3.5.3"
  }
 },
 "nbformat": 4,
 "nbformat_minor": 1
}
