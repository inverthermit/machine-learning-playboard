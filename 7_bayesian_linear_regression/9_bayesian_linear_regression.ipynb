{
 "cells": [
  {
   "cell_type": "markdown",
   "metadata": {},
   "source": [
    "## Workshop 8: Bayesian Inference with Regression"
   ]
  },
  {
   "cell_type": "markdown",
   "metadata": {},
   "source": [
    "*Note:* Chrome displays a vertical bar after all maths expressions. This is not intentional, it's a display bug. If this annoys you, please use a different browser."
   ]
  },
  {
   "cell_type": "markdown",
   "metadata": {},
   "source": [
    "In this workshop we will be looking at Bayesian linear regression. Briefly, this involves learning a linear regression model from a training set of *(x, y)* pairs, where *x* is a vector representing a data point and *y* is a real-valued response variable. Earlier we looked at ridge regression, which involved:\n",
    "1. assuming a linear relationship between inputs and outputs, i.e., $y \\approx \\mathbf{x}' \\mathbf{w}$ for all pairs\n",
    "1. minimising the *residual sum of squares error*, that is finding the parameters $\\hat{\\mathbf{w}}$ that give the best fit to the training responses (subject to added *regularisation* term) \n",
    "1. using $\\hat{\\mathbf{w}}$ to make test inferences"
   ]
  },
  {
   "cell_type": "markdown",
   "metadata": {},
   "source": [
    "Today we will look at *Bayesian* inference for the above model. In this case we don't follow steps 2 and 3 above, but rather formulate the *posterior* over the parameters, and make test inferences using *all settings of the parameters* weighted by their posterior probability. These operations can be solved exactly, using linear algebra."
   ]
  },
  {
   "cell_type": "markdown",
   "metadata": {},
   "source": [
    "### (Desperately) seeking posterior"
   ]
  },
  {
   "cell_type": "markdown",
   "metadata": {},
   "source": [
    "Before diving into the implementation, let's recap the maths behind Bayesian linear regression. We assume the data was generated from a Normal distribution, with its mean a linear function of the input vector and constant variance $\\sigma^2$ (assumed known, herein).   "
   ]
  },
  {
   "cell_type": "markdown",
   "metadata": {},
   "source": [
    "$$ \\newcommand\\ys{\\mathbf{y}}\n",
    "\\newcommand\\xs{\\mathbf{x}}\n",
    "\\newcommand\\Xs{\\mathbf{X}}\n",
    "\\newcommand\\ws{\\mathbf{w}}\n",
    "\\newcommand\\Vs{\\mathbf{V}}\n",
    "\\newcommand\\Is{\\mathbf{I}}\n",
    "\\begin{align*}\n",
    "y &\\sim \\textrm{Normal}(\\xs' \\ws, \\sigma^2) & \\mbox{Likelihood}\\\\\n",
    "\\ws &\\sim \\textrm{Normal}(\\mathbf{0}, \\gamma^2 \\mathbf{I}_D) & \\mbox{Prior}\n",
    "\\end{align*}$$"
   ]
  },
  {
   "cell_type": "markdown",
   "metadata": {},
   "source": [
    "The prior over the weights encourages low-magnitude weights, with parameter $\\gamma^2$ controlling the variance."
   ]
  },
  {
   "cell_type": "markdown",
   "metadata": {},
   "source": [
    "Given this formulation, we next step is to find an expression for the posterior"
   ]
  },
  {
   "cell_type": "markdown",
   "metadata": {},
   "source": [
    "$$\n",
    "\\begin{align*}\n",
    "p(\\ws | \\Xs, \\ys, \\sigma^2) = \\frac{ p(\\ys | \\Xs, \\ws, \\sigma^2) p(\\ws) }{ p(\\ys | \\Xs) } \\propto p(\\ys | \\Xs, \\ws, \\sigma^2) p(\\ws)\n",
    "\\end{align*}\n",
    "$$"
   ]
  },
  {
   "cell_type": "markdown",
   "metadata": {},
   "source": [
    "where $\\Xs$ are the training points (a matrix) and $\\ys$ are a vector of the response values for each training point. "
   ]
  },
  {
   "cell_type": "markdown",
   "metadata": {},
   "source": [
    "Recall that this can be solved, resulting in a Normal distribution for the posterior. We'll come back to this later on."
   ]
  },
  {
   "cell_type": "markdown",
   "metadata": {},
   "source": [
    "## Data set"
   ]
  },
  {
   "cell_type": "markdown",
   "metadata": {},
   "source": [
    "We'll generate a simple synthetic dataset with a tiny handful of points drawn from a simple quadratic function,\n",
    "$$ y = 5(x-\\frac{1}{2})^2 $$\n",
    "with a small amount of added noise."
   ]
  },
  {
   "cell_type": "code",
   "execution_count": 1,
   "metadata": {},
   "outputs": [
    {
     "name": "stdout",
     "output_type": "stream",
     "text": [
      "Populating the interactive namespace from numpy and matplotlib\n"
     ]
    }
   ],
   "source": [
    "%pylab inline"
   ]
  },
  {
   "cell_type": "code",
   "execution_count": 2,
   "metadata": {},
   "outputs": [
    {
     "name": "stdout",
     "output_type": "stream",
     "text": [
      "[[ 0.15287748]\n",
      " [ 0.15596061]\n",
      " [ 0.26479759]\n",
      " [ 0.38177833]\n",
      " [ 0.43374011]]\n"
     ]
    },
    {
     "data": {
      "text/plain": [
       "[<matplotlib.lines.Line2D at 0x2003a72fcf8>]"
      ]
     },
     "execution_count": 2,
     "metadata": {},
     "output_type": "execute_result"
    },
    {
     "data": {
      "image/png": "[encoded data removed]",
      "text/plain": [
       "<matplotlib.figure.Figure at 0x2003a72fc18>"
      ]
     },
     "metadata": {},
     "output_type": "display_data"
    }
   ],
   "source": [
    "# generate a few points\n",
    "N = 5\n",
    "# each x is a scalar, uniformly drawn between [0, 1] \n",
    "X = np.sort(np.random.random(size=N))\n",
    "# reshape X into a matrix, such that each instance is a row\n",
    "X = X[:,np.newaxis]\n",
    "\n",
    "#Fixed Run#3 for more clear uncertainty plot\n",
    "#X2 = [ [0.18615756], [0.59675711] ,[0.67832224] ,[0.70492722] ,[0.89709031]]\n",
    "#X = np.array(X2)\n",
    "\n",
    "print(X)\n",
    "\n",
    "# generate the target response values using the quadratic function\n",
    "# and additive noise\n",
    "sigma2 = 0.1**2\n",
    "y = 5*(X-0.5)**2 + sigma2**0.5 * np.random.normal(size=(N,1))\n",
    "\n",
    "# plot the training data\n",
    "plt.plot(X, y, 'bo')\n",
    "\n",
    "# and plot the true function (without noise)\n",
    "Xp = np.arange(-0.2, 1.2, 0.01)\n",
    "Xp = Xp[:,np.newaxis]\n",
    "yp_gold = 5*(Xp-0.5)**2 \n",
    "plt.plot(Xp, yp_gold, 'g')"
   ]
  },
  {
   "cell_type": "markdown",
   "metadata": {},
   "source": [
    "### Polynomial basis functions"
   ]
  },
  {
   "cell_type": "markdown",
   "metadata": {},
   "source": [
    "We'll fit this data with a polynomial model, considering a few different orders. Recall the basis function trick whereby you can augment the features of the input with new columns to implement a richer model class. Here we'll create a *basis matrix* for a $d^{th}$ order polynomial as follows"
   ]
  },
  {
   "cell_type": "markdown",
   "metadata": {},
   "source": [
    "$$ \\Phi = \\begin{bmatrix}\n",
    "    1 & x_1 & x_1^2 & x_1^3 & \\ldots & x_1^d \\\\\n",
    "    1 & x_2 & x_2^2 & x_2^3 & \\ldots & x_2^d \\\\\n",
    "    \\vdots &    \\vdots &    \\vdots &\\vdots &    \\ddots & \\vdots \\\\\n",
    "    1 & x_n & x_n^2 & x_n^3 & \\ldots & x_n^d \\\\\n",
    "\\end{bmatrix} $$"
   ]
  },
  {
   "cell_type": "markdown",
   "metadata": {},
   "source": [
    "Observe how each row is a training point raised to a different power, from *0* to *d*. This means that when we take a row from $\\Phi$ and take the dot product with $\\mathbf{w}$, a parameter vector of size *d+1*, we obtain "
   ]
  },
  {
   "cell_type": "markdown",
   "metadata": {},
   "source": [
    "$$ \\begin{align}\n",
    "\\Phi_{i} \\mathbf{w} &= \\sum_{j=0}^d \\Phi_{ij} w_j \\\\\n",
    "&= 1 \\times w_0 + x_i \\times w_1 + x_i^2 \\times w_2 + \\ldots + x_i^d \\times w_d\n",
    "\\end{align}$$"
   ]
  },
  {
   "cell_type": "markdown",
   "metadata": {},
   "source": [
    "I.e., a $d^{th}$ order polynomial expression with $\\mathbf{w}$ giving the coefficients."
   ]
  },
  {
   "cell_type": "code",
   "execution_count": 3,
   "metadata": {},
   "outputs": [
    {
     "ename": "NameError",
     "evalue": "name 'Phi' is not defined",
     "output_type": "error",
     "traceback": [
      "\u001b[1;31m---------------------------------------------------------------------------\u001b[0m",
      "\u001b[1;31mNameError\u001b[0m                                 Traceback (most recent call last)",
      "\u001b[1;32m<ipython-input-3-628289f24eda>\u001b[0m in \u001b[0;36m<module>\u001b[1;34m()\u001b[0m\n\u001b[0;32m      4\u001b[0m     \u001b[1;32mreturn\u001b[0m \u001b[0mPhi\u001b[0m\u001b[1;33m,\u001b[0m \u001b[0mPhi_test\u001b[0m\u001b[1;33m\u001b[0m\u001b[0m\n\u001b[0;32m      5\u001b[0m \u001b[1;33m\u001b[0m\u001b[0m\n\u001b[1;32m----> 6\u001b[1;33m \u001b[0mPhi\u001b[0m\u001b[1;33m,\u001b[0m \u001b[0mPhi_p\u001b[0m \u001b[1;33m=\u001b[0m \u001b[0mpolynomial_basis\u001b[0m\u001b[1;33m(\u001b[0m\u001b[0mX\u001b[0m\u001b[1;33m,\u001b[0m \u001b[0mXp\u001b[0m\u001b[1;33m,\u001b[0m \u001b[1;36m9\u001b[0m\u001b[1;33m)\u001b[0m\u001b[1;33m\u001b[0m\u001b[0m\n\u001b[0m\u001b[0;32m      7\u001b[0m \u001b[0mprint\u001b[0m \u001b[1;33m(\u001b[0m\u001b[0mPhi\u001b[0m\u001b[1;33m.\u001b[0m\u001b[0mshape\u001b[0m\u001b[1;33m)\u001b[0m\u001b[1;33m\u001b[0m\u001b[0m\n",
      "\u001b[1;32m<ipython-input-3-628289f24eda>\u001b[0m in \u001b[0;36mpolynomial_basis\u001b[1;34m(X, Xtest, d)\u001b[0m\n\u001b[0;32m      2\u001b[0m     \u001b[1;31m# ... Over to you\u001b[0m\u001b[1;33m\u001b[0m\u001b[1;33m\u001b[0m\u001b[0m\n\u001b[0;32m      3\u001b[0m \u001b[1;33m\u001b[0m\u001b[0m\n\u001b[1;32m----> 4\u001b[1;33m     \u001b[1;32mreturn\u001b[0m \u001b[0mPhi\u001b[0m\u001b[1;33m,\u001b[0m \u001b[0mPhi_test\u001b[0m\u001b[1;33m\u001b[0m\u001b[0m\n\u001b[0m\u001b[0;32m      5\u001b[0m \u001b[1;33m\u001b[0m\u001b[0m\n\u001b[0;32m      6\u001b[0m \u001b[0mPhi\u001b[0m\u001b[1;33m,\u001b[0m \u001b[0mPhi_p\u001b[0m \u001b[1;33m=\u001b[0m \u001b[0mpolynomial_basis\u001b[0m\u001b[1;33m(\u001b[0m\u001b[0mX\u001b[0m\u001b[1;33m,\u001b[0m \u001b[0mXp\u001b[0m\u001b[1;33m,\u001b[0m \u001b[1;36m9\u001b[0m\u001b[1;33m)\u001b[0m\u001b[1;33m\u001b[0m\u001b[0m\n",
      "\u001b[1;31mNameError\u001b[0m: name 'Phi' is not defined"
     ]
    }
   ],
   "source": [
    "def polynomial_basis(X, Xtest, d):\n",
    "    # ... Over to you\n",
    "    \n",
    "    return Phi, Phi_test\n",
    "\n",
    "Phi, Phi_p = polynomial_basis(X, Xp, 9)\n",
    "print (Phi.shape)"
   ]
  },
  {
   "cell_type": "markdown",
   "metadata": {},
   "source": [
    "**Discussion**: How does this basis trick relate to kernel methods?"
   ]
  },
  {
   "cell_type": "markdown",
   "metadata": {},
   "source": [
    "### Computing the posterior"
   ]
  },
  {
   "cell_type": "markdown",
   "metadata": {},
   "source": [
    "Returning to the maths, the next step is to formulate the posterior. We plug in the Normal defintions of the likelihood and prior to solve for the unnormalised posterior"
   ]
  },
  {
   "cell_type": "markdown",
   "metadata": {},
   "source": [
    "$$\n",
    "\\begin{align*}\n",
    "p(\\ws | \\Xs, \\ys, \\sigma^2) & \\propto \\textrm{Normal}(\\ws | \\mathbf{0}, \\gamma^2 \\mathbf{I}_D)\n",
    "\\textrm{Normal}(\\ys | \\Xs \\ws, \\sigma^2 \\mathbf{I}_N) \\\\\n",
    "& \\propto  \\textrm{Normal}(\\ws |  \\ws_N, \\mathbf{V}_N) \\\\\n",
    "\\mbox{where} ~ \\ws_N &= \\frac{1}{\\sigma^2} \\Vs_N \\Phi' \\ys \\\\\n",
    "\\Vs_N &= \\sigma^2 ( \\Phi' \\Phi + \\frac{\\sigma^2}{\\gamma^2} \\Is_D )^{-1} \n",
    "\\end{align*}\n",
    "$$"
   ]
  },
  {
   "cell_type": "markdown",
   "metadata": {},
   "source": [
    "which is (proportional to) a Normal distribution. As we know the normalising term for a Gaussian [the denominator of the PDF](https://en.wikipedia.org/wiki/Multivariate_normal_distribution#Non-degenerate_case), this means we have an exact normalised solution for the posterior, i.e.,  $p(\\ws | \\Xs, \\ys, \\sigma^2) = \\textrm{Normal}(\\ws |  \\ws_N, \\mathbf{V}_N)$."
   ]
  },
  {
   "cell_type": "markdown",
   "metadata": {},
   "source": [
    "Let's compute the mean vector and covariance matrix for the posterior based on the above expression."
   ]
  },
  {
   "cell_type": "code",
   "execution_count": null,
   "metadata": {
    "collapsed": true
   },
   "outputs": [],
   "source": [
    "gamma2 = 100 # large number = more permissive, prior is broader\n",
    "VN = # ... Over to you\n",
    "wN = # ... Over to you\n",
    "print(wN.shape, VN.shape)"
   ]
  },
  {
   "cell_type": "markdown",
   "metadata": {},
   "source": [
    "Next, we can plot the prior and posterior to see how they differ; given we have several weights, we'll just look at a couple of these, $w_0$ and $w_1$. "
   ]
  },
  {
   "cell_type": "code",
   "execution_count": null,
   "metadata": {
    "collapsed": true
   },
   "outputs": [],
   "source": [
    "# set up a 2d plot mesh\n",
    "plt.figure(1)\n",
    "delta = 0.05\n",
    "xpl = np.arange(-3, 3, delta)\n",
    "ypl = np.arange(-3, 3, delta)\n",
    "Xpl, Ypl = np.meshgrid(xpl, ypl)\n",
    "\n",
    "# plot a bivariate normal for the prior\n",
    "Zpl = mlab.bivariate_normal(Xpl, Ypl, gamma2 ** 0.5,gamma2 ** 0.5, 0, 0, 0)\n",
    "CS = plt.contour(Xpl, Ypl, Zpl) \n",
    "plt.clabel(CS, inline=1, fontsize=10)\n",
    "plt.title('Prior p(w) indices 0,1')\n",
    "\n",
    "# plot a bivariate normal for the posterior\n",
    "plt.figure(2)\n",
    "Zpl = mlab.bivariate_normal(Xpl, Ypl, VN[0,0] ** 0.5, VN[1,1] ** 0.5, wN[0], wN[1], VN[0,1])\n",
    "CS = plt.contour(Xpl, Ypl, Zpl) #, levels=[0.001, 0.1, 0.25, 0.5, 0.75, 1, 1.5, 2, 2.5])\n",
    "plt.clabel(CS, inline=1, fontsize=10)\n",
    "plt.title('Posterior p(w|X,y) indices 0,1')\n",
    "plt.plot(wN[0], wN[1], 'rx')"
   ]
  },
  {
   "cell_type": "markdown",
   "metadata": {},
   "source": [
    "**Discussion question**: Can you explain why the prior and the posterior are so different? How is this related to the dataset? Why are the elipses in the posterior not aligned to the axes? *You might want to change the parameter indices from 0,1 to other pairs to get a better idea of the full posterior.*\n",
    "\n",
    "## Tim: 'w's are not independent anymore??"
   ]
  },
  {
   "cell_type": "markdown",
   "metadata": {},
   "source": [
    "### Bayesian inference"
   ]
  },
  {
   "cell_type": "markdown",
   "metadata": {},
   "source": [
    "The conceptually simplest means of doing inference is to draw a few parameter vectors from the posterior (sampling from a Gaussian). Let's do this 10 times and plot the results."
   ]
  },
  {
   "cell_type": "code",
   "execution_count": null,
   "metadata": {
    "collapsed": true
   },
   "outputs": [],
   "source": [
    "# plot the data points\n",
    "plt.plot(X, y, 'o')\n",
    "# plot the mean prediction\n",
    "yp = np.dot(Phi_p, wN)\n",
    "plt.plot(Xp, yp, 'g-')\n",
    "\n",
    "# generate some samples from the posterior\n",
    "samples = []\n",
    "ps = []\n",
    "for s in range(10):\n",
    "    # draw a weight vector\n",
    "    w_sampled = np.random.multivariate_normal(wN.flatten(), VN, 1).flatten()\n",
    "    # plot the predictions for this weight vector\n",
    "    yp_sampled = np.dot(Phi_p, w_sampled)\n",
    "    p = plt.plot(Xp.flatten(), yp_sampled.flatten(), ':', lw=3)\n",
    "    samples.append(w_sampled)\n",
    "    ps.append(p[0])\n",
    "    \n",
    "plt.ylim(-1,2)"
   ]
  },
  {
   "cell_type": "markdown",
   "metadata": {},
   "source": [
    "It's interesting to see what happens near the data points, and away from them, in particular the edges of the plot. We'll come back to this."
   ]
  },
  {
   "cell_type": "markdown",
   "metadata": {},
   "source": [
    "But there's a more elegant solution, as the predictive distribution can be found in closed form. Namely"
   ]
  },
  {
   "cell_type": "markdown",
   "metadata": {},
   "source": [
    "$$\n",
    "\\begin{align*}\n",
    "p(y_{*} | \\xs_{*}, \\Xs, \\ys, \\sigma^2) &= \\textrm{Normal}(y_{*} | \\xs_{*}'\\ws_N, \\sigma^2_N(\\xs_{*})) \\\\\n",
    "\\sigma^2_N(\\xs_{*}) & = \\sigma^2 + \\xs_{*}' \\Vs_N \\xs_{*}\n",
    "\\end{align*}\n",
    "$$"
   ]
  },
  {
   "cell_type": "markdown",
   "metadata": {},
   "source": [
    "Note that the predictive mean is a simple application of the posterior mean to the data point, but the predictive variance is  a bit more complicated. Let's compute the mean and variance on the test points, and visualise the results."
   ]
  },
  {
   "cell_type": "code",
   "execution_count": null,
   "metadata": {
    "collapsed": true
   },
   "outputs": [],
   "source": [
    "# compute the mean from above\n",
    "yp = # ... Over to you\n",
    "\n",
    "# compute the variance using formula above\n",
    "s2s = np.zeros(Xp.shape[0])\n",
    "for i in range(Xp.shape[0]):\n",
    "    s2s[i] = # ... Over to you\n",
    "\n",
    "# plot the data\n",
    "plt.plot(X, y, 'o')\n",
    "# plot the 95% confidence interval\n",
    "plt.fill_between(Xp.flatten(), yp+2*s2s ** 0.5, yp-2*s2s ** 0.5, facecolor='blue', alpha=0.1)\n",
    "# plot the mean as a green dotted line\n",
    "plt.plot(Xp, yp, 'g:')\n",
    "# plot the ground truth in red\n",
    "plt.plot(Xp, yp_gold, 'r')\n",
    "\n",
    "plt.xlabel('x')\n",
    "plt.ylabel('y')\n",
    "plt.ylim(-2,5)"
   ]
  },
  {
   "cell_type": "markdown",
   "metadata": {},
   "source": [
    "**Discussion**: How does the uncertainty plot compare to the samples above? How does the uncertainty change relative to the distance from training points? Can you explain why?\n",
    "\n",
    "**Practical**: How does the setting of *gamma2* affect the fit? How about the number of data points, *N*. Try some other values and see what happens. "
   ]
  },
  {
   "cell_type": "markdown",
   "metadata": {},
   "source": [
    "**Discussion**: Is a 9th order polynomial a good choice for this problem? Based on the results above, would you recommend this model, or make a different choice?"
   ]
  },
  {
   "cell_type": "markdown",
   "metadata": {},
   "source": [
    "### Bayesian model selection"
   ]
  },
  {
   "cell_type": "markdown",
   "metadata": {},
   "source": [
    "Now let's revisit the assumption of having a 9th order polynomial. The evidence gives us a good way of evaluating the quality of the fit. \n",
    "\n",
    "We can compute the evidence, $p(\\ys|\\Xs, \\sigma^2, \\gamma^2)$ <s>based on slide 31 of deck 14 (note the notation key, for mapping between Bishop to Murphy notation)</s>. This is also known as the *marginal likelihood* and is given in Bishop 3.5.1, p167 as equation 3.86. We won't delve into the details, but broadly speaking the $|\\mathbf{A}|$ term penalises model complexity, while the $E$ term ($E(\\mathbf{m}_N)$ in Bishop) measures the quality of the fit to the data."
   ]
  },
  {
   "cell_type": "code",
   "execution_count": null,
   "metadata": {
    "collapsed": true
   },
   "outputs": [],
   "source": [
    "def log_evidence(m, Phi, sigma2, gamma2):\n",
    "    N, M = Phi.shape\n",
    "    alpha, beta = 1/float(gamma2), 1/float(sigma2)\n",
    "    rss = np.sum((y - np.dot(Phi, m)) ** 2)\n",
    "    wpen = np.dot(m.T, m)\n",
    "    E = beta/2.0 * rss + alpha/2.0 * wpen\n",
    "    A = alpha * np.eye(M) + beta * np.dot(Phi.T, Phi)\n",
    "    lE = M/2.0 * np.log(alpha) + N/2.0 * np.log(beta) - E \\\n",
    "        - 0.5 * np.log(np.linalg.det(A)) - N/2.0 * np.log(2.0 * np.pi)\n",
    "\n",
    "    # return both the evidence, and the RSS term (the raw quality of fit)\n",
    "    return lE.flatten()[0], rss\n",
    "\n",
    "# what's the evidence for our 9th order model?\n",
    "print(log_evidence(wN, Phi, sigma2, gamma2))"
   ]
  },
  {
   "cell_type": "markdown",
   "metadata": {},
   "source": [
    "So what happens if we use a lower order model, e.g., a 3rd order model?"
   ]
  },
  {
   "cell_type": "code",
   "execution_count": null,
   "metadata": {
    "collapsed": true
   },
   "outputs": [],
   "source": [
    "Phi3, Phi_p3 = polynomial_basis(X, Xp, 3)\n",
    "VN3 = # ... Copy from above\n",
    "wN3 = # ... Copy from above\n",
    "\n",
    "yp3 = # ... Copy from above\n",
    "s2s = np.zeros(Phi_p3.shape[0])\n",
    "for i in range(Phi_p3.shape[0]):\n",
    "    \n",
    "    s2s[i] = # ... Copy from above\n",
    "    \n",
    "plt.plot(X, y, 'o')\n",
    "plt.fill_between(Xp.flatten(), yp3+2*s2s ** 0.5, yp3-2*s2s ** 0.5, facecolor='blue', alpha=0.1)\n",
    "plt.plot(Xp, yp3, 'g:')\n",
    "plt.plot(Xp, yp_gold, 'r')\n",
    "plt.xlabel('x')\n",
    "plt.ylabel('y')"
   ]
  },
  {
   "cell_type": "markdown",
   "metadata": {},
   "source": [
    "**Discussion**: does that look like a better fit to you? Consider both the area [0,1] near the training points, and those outside this range."
   ]
  },
  {
   "cell_type": "markdown",
   "metadata": {},
   "source": [
    "Let's see what the *evidence* says, and compare this to the above result:"
   ]
  },
  {
   "cell_type": "code",
   "execution_count": null,
   "metadata": {
    "collapsed": true
   },
   "outputs": [],
   "source": [
    "# ... Over to you"
   ]
  },
  {
   "cell_type": "markdown",
   "metadata": {},
   "source": [
    "The RSS has barely changed, but the evidence is much higher. We can look at various model orders to see which has the best *evidence* to perform Bayesian model selection: "
   ]
  },
  {
   "cell_type": "code",
   "execution_count": null,
   "metadata": {
    "collapsed": true
   },
   "outputs": [],
   "source": [
    "evs = []\n",
    "gamma2 = 1000\n",
    "for order in range(0,10):\n",
    "    Phio, Phipo = polynomial_basis(X, Xp, order)\n",
    "    Vo = # ... Copy from above\n",
    "    wo = # ... Copy from above\n",
    "    lEo = # ... Copy from above\n",
    "    print('order', order, 'log evidence', lEo[0], 'rss', lEo[1])\n",
    "    evs.append((order,) + lEo)"
   ]
  },
  {
   "cell_type": "code",
   "execution_count": null,
   "metadata": {
    "collapsed": true
   },
   "outputs": [],
   "source": [
    "#plot the above log evidence values against the model order\n",
    "evs = np.vstack(evs)\n",
    "plt.plot(evs[:,0], evs[:,1])\n",
    "#plt.ylim(-100, -5)"
   ]
  },
  {
   "cell_type": "markdown",
   "metadata": {},
   "source": [
    "**Discussion**: So which model class will be chosen? Is this a reasonable situation? \n",
    "\n",
    "**Practical**: Rerun the code with a new random training set, or different values of *N*, such as 2 or 3 points or 20; the results may be different. Can you explain why the outcome might be different?"
   ]
  }
 ],
 "metadata": {
  "kernelspec": {
   "display_name": "Python 3",
   "language": "python",
   "name": "python3"
  },
  "language_info": {
   "codemirror_mode": {
    "name": "ipython",
    "version": 3
   },
   "file_extension": ".py",
   "mimetype": "text/x-python",
   "name": "python",
   "nbconvert_exporter": "python",
   "pygments_lexer": "ipython3",
   "version": "3.5.3"
  }
 },
 "nbformat": 4,
 "nbformat_minor": 1
}
