{
 "cells": [
  {
   "cell_type": "code",
   "execution_count": 1,
   "metadata": {
    "collapsed": true
   },
   "outputs": [],
   "source": [
    "# run in Python 3 !\n",
    "import numpy as np\n",
    "import matplotlib.pyplot as plt\n",
    "import scipy.special\n",
    "from sklearn.metrics import accuracy_score\n",
    "%matplotlib inline"
   ]
  },
  {
   "cell_type": "markdown",
   "metadata": {},
   "source": [
    "# Generate points"
   ]
  },
  {
   "cell_type": "code",
   "execution_count": 2,
   "metadata": {
    "collapsed": true
   },
   "outputs": [],
   "source": [
    "def generate_s_shaped_data(gap=3):\n",
    "    X = np.random.randn(80, 2)\n",
    "\n",
    "    X[10:20] += np.array([3, 4])\n",
    "    X[20:30] += np.array([0, 8])\n",
    "    X[30:40] += np.array([3, 12])\n",
    "\n",
    "    X[40:50] += np.array([gap, 0])\n",
    "    X[50:60] += np.array([3 + gap, 4])\n",
    "    X[60:70] += np.array([gap, 8])\n",
    "    X[70:80] += np.array([3 + gap, 12])\n",
    "\n",
    "    y = np.hstack([np.zeros(40), np.ones(40)])\n",
    "\n",
    "    return X, y"
   ]
  },
  {
   "cell_type": "code",
   "execution_count": 3,
   "metadata": {},
   "outputs": [
    {
     "name": "stdout",
     "output_type": "stream",
     "text": [
      "X: (80, 2)\n",
      "y: (80,)\n"
     ]
    },
    {
     "data": {
      "image/png": "[encoded data removed]",
      "text/plain": [
       "<matplotlib.figure.Figure at 0x2044ce85780>"
      ]
     },
     "metadata": {},
     "output_type": "display_data"
    }
   ],
   "source": [
    "X, y = generate_s_shaped_data(5)\n",
    "print('X:', X.shape)\n",
    "print('y:', y.shape)\n",
    "\n",
    "plt.plot(X[y==0, 0], X[y==0, 1], \"o\")\n",
    "plt.plot(X[y==1, 0], X[y==1, 1], \"o\")\n",
    "plt.show()"
   ]
  },
  {
   "cell_type": "markdown",
   "metadata": {},
   "source": [
    "# Forward pass and backprop"
   ]
  },
  {
   "cell_type": "code",
   "execution_count": 4,
   "metadata": {
    "collapsed": true
   },
   "outputs": [],
   "source": [
    "def forward(X, V, c, W, b):\n",
    "    t = X.dot(V) + c\n",
    "    h = scipy.special.expit(t)    \n",
    "    s = h.dot(W) + b\n",
    "    y_hat = scipy.special.expit(s)\n",
    "    \n",
    "    return X, V, c, t, h, W, b, s, y_hat"
   ]
  },
  {
   "cell_type": "code",
   "execution_count": 5,
   "metadata": {
    "collapsed": true
   },
   "outputs": [],
   "source": [
    "def backprop(y, X, V, c, t, h, W, b, s, y_hat):\n",
    "    grad_b = y_hat - y\n",
    "    grad_W = h.T * grad_b\n",
    "    grad_h = grad_b * W.T\n",
    "    \n",
    "    grad_c = h*(1-h) * grad_h\n",
    "    grad_V = X.T.dot(grad_c)\n",
    "    \n",
    "    return grad_V, grad_c, grad_W, grad_b"
   ]
  },
  {
   "cell_type": "markdown",
   "metadata": {},
   "source": [
    "# Initialization and training (SGD online)"
   ]
  },
  {
   "cell_type": "code",
   "execution_count": 6,
   "metadata": {
    "collapsed": true
   },
   "outputs": [],
   "source": [
    "X = (X-X.mean(axis=0)) / X.std(axis=0)"
   ]
  },
  {
   "cell_type": "code",
   "execution_count": 7,
   "metadata": {
    "collapsed": true
   },
   "outputs": [],
   "source": [
    "from sklearn.utils import shuffle\n",
    "X, y = shuffle(X, y)"
   ]
  },
  {
   "cell_type": "code",
   "execution_count": 8,
   "metadata": {},
   "outputs": [
    {
     "name": "stdout",
     "output_type": "stream",
     "text": [
      "X: (80, 2)\n",
      "y: (80,)\n",
      "V: (2, 5)\n",
      "c: (1, 5)\n",
      "W: (5, 1)\n",
      "b: (1, 1)\n"
     ]
    }
   ],
   "source": [
    "num_points = X.shape[0]\n",
    "num_features = X.shape[1]\n",
    "num_hidden = 5\n",
    "num_output = 1\n",
    "\n",
    "std = 0.1\n",
    "V = std * np.random.randn(num_features, num_hidden)\n",
    "c = np.zeros((1, num_hidden))\n",
    "W = std * np.random.randn(num_hidden, num_output)\n",
    "b = np.zeros((1, num_output))\n",
    "\n",
    "print('X:', X.shape)\n",
    "print('y:', y.shape)\n",
    "print('V:', V.shape)\n",
    "print('c:', c.shape)\n",
    "print('W:', W.shape)\n",
    "print('b:', b.shape)"
   ]
  },
  {
   "cell_type": "code",
   "execution_count": 9,
   "metadata": {
    "collapsed": true
   },
   "outputs": [],
   "source": [
    "def plot_decision_boundary(X, V, c, W, b, y):\n",
    "    x1_min, x2_min = X.min(axis=0)\n",
    "    x1_max, x2_max = X.max(axis=0)\n",
    "\n",
    "    x1s = np.linspace(x1_min, x1_max, num=100)\n",
    "    x2s = np.linspace(x2_min, x2_max, num=100)\n",
    "    x1_grid, x2_grid = np.meshgrid(x1s, x2s)\n",
    "    \n",
    "    x_grid_flatten = np.column_stack([x1_grid.ravel(), x2_grid.ravel()])\n",
    "    y_grid = forward(x_grid_flatten, V, c, W, b)[-1].reshape(x1_grid.shape)\n",
    "\n",
    "    plt.contour(x1_grid, x2_grid, y_grid)\n",
    "    plt.plot(X[y==0, 0], X[y==0, 1], \"o\")\n",
    "    plt.plot(X[y==1, 0], X[y==1, 1], \"o\")\n",
    "    plt.show()"
   ]
  },
  {
   "cell_type": "code",
   "execution_count": 10,
   "metadata": {
    "scrolled": false
   },
   "outputs": [
    {
     "name": "stdout",
     "output_type": "stream",
     "text": [
      "iter 0: accuracy 0.500000\n",
      "iter 3: accuracy 0.800000\n",
      "iter 4: accuracy 0.850000\n",
      "iter 5: accuracy 0.887500\n",
      "iter 6: accuracy 0.912500\n",
      "iter 110: accuracy 0.925000\n",
      "iter 112: accuracy 0.937500\n",
      "iter 123: accuracy 0.950000\n",
      "iter 158: accuracy 0.962500\n",
      "iter 159: accuracy 0.975000\n",
      "iter 174: accuracy 0.987500\n",
      "iter 204: accuracy 1.000000\n"
     ]
    },
    {
     "data": {
      "image/png": "[encoded data removed]",
      "text/plain": [
       "<matplotlib.figure.Figure at 0x204481066d8>"
      ]
     },
     "metadata": {},
     "output_type": "display_data"
    }
   ],
   "source": [
    "eta = 0.1\n",
    "num_epoch = 500\n",
    "accuracy = 0\n",
    "for k in range(num_epoch):\n",
    "    for i in range(num_points):\n",
    "        tmp = forward(X[i, None], V, c, W, b)\n",
    "        grad_V, grad_c, grad_W, grad_b = backprop(y[i], *tmp)\n",
    "\n",
    "        V -= eta * grad_V\n",
    "        c -= eta * grad_c\n",
    "        W -= eta * grad_W\n",
    "        b -= eta * grad_b\n",
    "    \n",
    "    y_hat = forward(X, V, c, W, b)[-1].round()\n",
    "    if accuracy_score(y, y_hat) > accuracy:\n",
    "        accuracy = accuracy_score(y, y_hat)\n",
    "        print('iter %d: accuracy %lf'%(k, accuracy))\n",
    "plot_decision_boundary(X, V, c, W, b, y)"
   ]
  }
 ],
 "metadata": {
  "kernelspec": {
   "display_name": "Python 3",
   "language": "python",
   "name": "python3"
  },
  "language_info": {
   "codemirror_mode": {
    "name": "ipython",
    "version": 3
   },
   "file_extension": ".py",
   "mimetype": "text/x-python",
   "name": "python",
   "nbconvert_exporter": "python",
   "pygments_lexer": "ipython3",
   "version": "3.5.3"
  }
 },
 "nbformat": 4,
 "nbformat_minor": 2
}
