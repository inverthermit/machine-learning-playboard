{
 "cells": [
  {
   "cell_type": "code",
   "execution_count": 1,
   "metadata": {},
   "outputs": [],
   "source": [
    "import numpy as np"
   ]
  },
  {
   "cell_type": "markdown",
   "metadata": {},
   "source": [
    "There are 3 ways to estimate the variance of a sample of values drawn from a distribution."
   ]
  },
  {
   "cell_type": "code",
   "execution_count": 2,
   "metadata": {},
   "outputs": [],
   "source": [
    "def f(X):\n",
    "    mean = X.mean()\n",
    "    N = X.shape[0]\n",
    "    return np.sum((X-mean)**2) / (N-1)\n",
    "\n",
    "def g(X):\n",
    "    mean = X.mean()\n",
    "    N = X.shape[0]\n",
    "    return np.sum((X-mean)**2) / N\n",
    "\n",
    "def h(X):\n",
    "    mean = X.mean()\n",
    "    N = X.shape[0]\n",
    "    return np.sum((X-mean)**2) / (N+1)"
   ]
  },
  {
   "cell_type": "code",
   "execution_count": 3,
   "metadata": {},
   "outputs": [],
   "source": [
    "num_experiments = 20000\n",
    "sample_size     = 2000\n",
    "\n",
    "samples = np.random.randn(num_experiments, sample_size)\n",
    "true_variance = 1"
   ]
  },
  {
   "cell_type": "code",
   "execution_count": 4,
   "metadata": {},
   "outputs": [
    {
     "name": "stdout",
     "output_type": "stream",
     "text": [
      "Our plan is running 20000 experiments to test an estimator.\n",
      "In every experiment, we provide the estimator a sample of 2000 values drawn from the standard Gaussian distribution.\n",
      "\n",
      "The true variance is 1, but the estimator will not know this, and will give us its estimate in every experiment.\n",
      "Then we will calculate the bias, variance, and MSE (mean sqaured error) of the estimator after 20000 experiments.\n",
      "\n",
      "Note that we will calculate the MSE in two equivalent ways. Think about why they give the same result.\n"
     ]
    }
   ],
   "source": [
    "print('Our plan is running %d experiments to test an estimator.' % num_experiments)\n",
    "print('In every experiment, we provide the estimator a sample of %d values drawn from the standard Gaussian distribution.' %\n",
    "      sample_size)\n",
    "print()\n",
    "print('The true variance is 1, but the estimator will not know this, and will give us its estimate in every experiment.')\n",
    "print('Then we will calculate the bias, variance, and MSE (mean sqaured error) of the estimator after %d experiments.' %\n",
    "      num_experiments)\n",
    "print()\n",
    "print('Note that we will calculate the MSE in two equivalent ways. Think about why they give the same result.')"
   ]
  },
  {
   "cell_type": "code",
   "execution_count": 5,
   "metadata": {},
   "outputs": [],
   "source": [
    "def evaluate_an_estimator(func, samples, true_value):\n",
    "    estimates = np.empty(samples.shape[0])\n",
    "    for i, sample in enumerate(samples):\n",
    "        estimates[i] = func(sample)\n",
    "    \n",
    "    estimator_bias  =          (estimates - true_value      ).mean()\n",
    "    estimator_var   = np.square(estimates - estimates.mean()).mean()\n",
    "    estimator_MSE_1 = np.square(estimates - true_value      ).mean()\n",
    "    estimator_MSE_2 = estimator_bias**2 + estimator_var\n",
    "    \n",
    "    print('%s:  bias = %12.5e  var = %12.5e  MSE_1 = %12.5e  MSE_2 = %12.5e' % \n",
    "          (str(func), estimator_bias, estimator_var, estimator_MSE_1, estimator_MSE_2))"
   ]
  },
  {
   "cell_type": "code",
   "execution_count": 6,
   "metadata": {},
   "outputs": [
    {
     "name": "stdout",
     "output_type": "stream",
     "text": [
      "<function f at 0x0000029E34E208C8>:  bias =  9.01764e-05  var =  1.00264e-03  MSE_1 =  1.00265e-03  MSE_2 =  1.00265e-03\n",
      "<function g at 0x0000029E34E20840>:  bias = -4.09869e-04  var =  1.00164e-03  MSE_1 =  1.00181e-03  MSE_2 =  1.00181e-03\n",
      "<function h at 0x0000029E34E207B8>:  bias = -9.09414e-04  var =  1.00064e-03  MSE_1 =  1.00147e-03  MSE_2 =  1.00147e-03\n"
     ]
    }
   ],
   "source": [
    "evaluate_an_estimator(f, samples, true_variance)\n",
    "evaluate_an_estimator(g, samples, true_variance)\n",
    "evaluate_an_estimator(h, samples, true_variance)"
   ]
  },
  {
   "cell_type": "markdown",
   "metadata": {},
   "source": [
    "We have tested 3 variance estimators for the standard Gaussian distribution and make the following conclusions:\n",
    "* estimator f has the lowest bias, actually we can prove that it is an unbiased variance estimator for any distribution. (https://en.wikipedia.org/wiki/Bessel%27s_correction#Formula)\n",
    "* estimator g gives the MLE (maximum likelihood estimate) for the variance for a Gaussian distribution, it has neither the lowest bias nor the lowest MSE. (https://en.wikipedia.org/wiki/Normal_distribution#Estimation_of_parameters)\n",
    "* estimator h has the lowest MSE, actually it is the best variance estimator for Gaussian distributions in terms of MSE. (https://en.wikipedia.org/wiki/Mean_squared_error#Gaussian_distribution)"
   ]
  }
 ],
 "metadata": {
  "kernelspec": {
   "display_name": "Python 3",
   "language": "python",
   "name": "python3"
  },
  "language_info": {
   "codemirror_mode": {
    "name": "ipython",
    "version": 3
   },
   "file_extension": ".py",
   "mimetype": "text/x-python",
   "name": "python",
   "nbconvert_exporter": "python",
   "pygments_lexer": "ipython3",
   "version": "3.5.3"
  }
 },
 "nbformat": 4,
 "nbformat_minor": 2
}
