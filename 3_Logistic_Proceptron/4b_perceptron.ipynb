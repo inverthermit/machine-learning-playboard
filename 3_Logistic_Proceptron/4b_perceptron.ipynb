{
 "cells": [
  {
   "cell_type": "markdown",
   "metadata": {},
   "source": [
    "# Perceptron"
   ]
  },
  {
   "cell_type": "markdown",
   "metadata": {},
   "source": [
    "The aim of this worksheet is to review the steps involved in *perceptron* training algorithm, and to assess how this method can behave in practical scenarios."
   ]
  },
  {
   "cell_type": "markdown",
   "metadata": {},
   "source": [
    "As a first step required for both parts, setup the ipython notebook environment to include numpy, scipy, matplotlib etc."
   ]
  },
  {
   "cell_type": "code",
   "execution_count": 1,
   "metadata": {},
   "outputs": [
    {
     "name": "stdout",
     "output_type": "stream",
     "text": [
      "Populating the interactive namespace from numpy and matplotlib\n"
     ]
    }
   ],
   "source": [
    "%pylab inline\n",
    "import numpy as np\n",
    "import matplotlib.pyplot as plt"
   ]
  },
  {
   "cell_type": "markdown",
   "metadata": {},
   "source": [
    "In this tutorial, we are going to use synthetic data. The advantage of using synthetic data is that we have control over the shape of the data, which is useful in studying properties of machine learning methods.\n",
    "\n",
    "We are going to generate data using a function defined below. This function produces S-shaped dataset which is mostly separable, but not necessarily linearly separable. We can control the degree of separability. The resulting dataset is going to be two-dimensional (so that we can plot it) with a binary label. That is, the dataset is a $N\\times2$ array of instances coupled with an $N\\times1$ of labels. The classes are encoded as $-1$ and $1$.\n",
    "\n",
    "Since the dataset is a tuple of two arrays, we are going to use a special data structure called *named tuple* from a Python module called *collections*."
   ]
  },
  {
   "cell_type": "code",
   "execution_count": 2,
   "metadata": {
    "collapsed": true
   },
   "outputs": [],
   "source": [
    "import collections\n",
    "\n",
    "def generate_s_shaped_data(gap=3):\n",
    "    x = np.random.randn(80, 2)\n",
    "    x[10:20] += np.array([3, 4])\n",
    "    x[20:30] += np.array([0, 8])\n",
    "    x[30:40] += np.array([3, 12])\n",
    "\n",
    "    x[40:50] += np.array([gap, 0])\n",
    "    x[50:60] += np.array([3 + gap, 4])\n",
    "    x[60:70] += np.array([gap, 8])\n",
    "    x[70:80] += np.array([3 + gap, 12])\n",
    "\n",
    "    t = np.hstack([-np.ones(40), np.ones(40)])\n",
    "    \n",
    "    d = collections.namedtuple('Dataset', ['x', 't'])\n",
    "    d.x = x\n",
    "    d.t = t\n",
    "    return d"
   ]
  },
  {
   "cell_type": "markdown",
   "metadata": {},
   "source": [
    "A perceptron is a linear classifier. Therefore, we will aim to generate linearly separable data.\n",
    "\n",
    "We start with generating training data. "
   ]
  },
  {
   "cell_type": "code",
   "execution_count": 3,
   "metadata": {},
   "outputs": [
    {
     "name": "stdout",
     "output_type": "stream",
     "text": [
      "[[ -9.70576856e-01  -1.21783402e+00]\n",
      " [ -5.22086732e-01  -1.32132156e+00]\n",
      " [  3.48133223e-01  -1.14587810e+00]\n",
      " [  5.31941369e-04  -7.88825086e-01]\n",
      " [  5.52237333e-01   6.67452388e-01]\n",
      " [  8.23342847e-01   1.69446203e+00]\n",
      " [ -1.78365722e-01   1.16728948e+00]\n",
      " [ -1.40854597e+00  -6.10354643e-02]\n",
      " [  3.33896408e-02  -3.78739983e-01]\n",
      " [  9.31117005e-02  -3.24659230e-01]\n",
      " [  4.22549826e+00   4.60741779e+00]\n",
      " [  1.95581028e+00   4.67840027e+00]\n",
      " [  2.02719192e+00   4.00057089e+00]\n",
      " [  1.69068383e+00   4.04530397e+00]\n",
      " [  3.22424177e+00   3.10260329e+00]\n",
      " [  1.35929307e+00   3.94525841e+00]\n",
      " [  3.84475051e+00   4.72571747e+00]\n",
      " [  2.17720950e+00   3.14047071e+00]\n",
      " [  4.53712199e+00   4.46563426e+00]\n",
      " [  2.44911453e+00   2.73031954e+00]\n",
      " [ -2.19663525e+00   8.40183246e+00]\n",
      " [  1.49454547e+00   8.33310721e+00]\n",
      " [ -1.85957914e+00   7.90151226e+00]\n",
      " [ -3.58638622e-01   7.27651480e+00]\n",
      " [ -9.73159853e-01   8.08281332e+00]\n",
      " [  2.01214848e-01   6.52471862e+00]\n",
      " [  5.90897746e-01   5.90756584e+00]\n",
      " [  6.36751922e-01   8.01493445e+00]\n",
      " [ -5.76948748e-01   5.74466926e+00]\n",
      " [  1.31466220e+00   8.60335729e+00]\n",
      " [  2.89089370e+00   1.04432227e+01]\n",
      " [  2.92490013e+00   1.12826108e+01]\n",
      " [  2.64939081e+00   1.01774238e+01]\n",
      " [  3.75327806e+00   1.30875842e+01]\n",
      " [  3.61260536e+00   1.10839840e+01]\n",
      " [  5.04711307e+00   1.10932748e+01]\n",
      " [  3.77352399e+00   1.31446308e+01]\n",
      " [  2.94418195e+00   1.33860582e+01]\n",
      " [  5.27584001e+00   1.02215987e+01]\n",
      " [  1.35389984e+00   1.35996816e+01]\n",
      " [  7.77855307e+00   1.31214064e-02]\n",
      " [  9.16542403e+00   1.48556882e-01]\n",
      " [  9.08669616e+00   5.04002350e-01]\n",
      " [  6.38793085e+00   8.28561270e-01]\n",
      " [  6.94930523e+00   2.95707097e-01]\n",
      " [  8.08985219e+00  -3.24926363e-01]\n",
      " [  8.08360216e+00   1.07506992e+00]\n",
      " [  7.23254516e+00  -6.24850160e-01]\n",
      " [  8.38632343e+00   1.64392389e-01]\n",
      " [  8.89038334e+00   1.50422031e+00]\n",
      " [  9.57677900e+00   4.49812158e+00]\n",
      " [  1.24403066e+01   4.36697767e+00]\n",
      " [  1.08602405e+01   3.58802636e+00]\n",
      " [  1.24699310e+01   3.52573140e+00]\n",
      " [  1.02090184e+01   2.98198773e+00]\n",
      " [  1.15592463e+01   4.50220669e+00]\n",
      " [  1.02214149e+01   3.99002258e+00]\n",
      " [  1.01140609e+01   4.50876063e+00]\n",
      " [  1.08957724e+01   4.80070047e+00]\n",
      " [  1.13562199e+01   3.30568330e+00]\n",
      " [  8.92436404e+00   8.64724502e+00]\n",
      " [  7.73836714e+00   8.24160477e+00]\n",
      " [  9.65606649e+00   9.57389013e+00]\n",
      " [  6.64373824e+00   7.29261074e+00]\n",
      " [  6.39272289e+00   8.51107421e+00]\n",
      " [  8.93055338e+00   8.48674493e+00]\n",
      " [  6.58089400e+00   7.57376621e+00]\n",
      " [  9.07862235e+00   9.39234843e+00]\n",
      " [  8.04599555e+00   7.32946885e+00]\n",
      " [  7.99454876e+00   8.37269346e+00]\n",
      " [  1.02720489e+01   1.30028999e+01]\n",
      " [  1.11405788e+01   1.23527975e+01]\n",
      " [  1.10104654e+01   1.29688852e+01]\n",
      " [  1.21021986e+01   1.15601582e+01]\n",
      " [  9.84677346e+00   1.22362306e+01]\n",
      " [  1.03515340e+01   1.20297636e+01]\n",
      " [  1.18352573e+01   1.24594133e+01]\n",
      " [  1.09930460e+01   1.15107302e+01]\n",
      " [  1.35225507e+01   1.27878903e+01]\n",
      " [  1.09269093e+01   1.12696807e+01]]\n",
      "[-1. -1. -1. -1. -1. -1. -1. -1. -1. -1. -1. -1. -1. -1. -1. -1. -1. -1.\n",
      " -1. -1. -1. -1. -1. -1. -1. -1. -1. -1. -1. -1. -1. -1. -1. -1. -1. -1.\n",
      " -1. -1. -1. -1.  1.  1.  1.  1.  1.  1.  1.  1.  1.  1.  1.  1.  1.  1.\n",
      "  1.  1.  1.  1.  1.  1.  1.  1.  1.  1.  1.  1.  1.  1.  1.  1.  1.  1.\n",
      "  1.  1.  1.  1.  1.  1.  1.  1.]\n"
     ]
    },
    {
     "data": {
      "text/plain": [
       "[<matplotlib.lines.Line2D at 0x21186dfccc0>]"
      ]
     },
     "execution_count": 3,
     "metadata": {},
     "output_type": "execute_result"
    },
    {
     "data": {
      "image/png": "[encoded data removed]",
      "text/plain": [
       "<matplotlib.figure.Figure at 0x21187a569b0>"
      ]
     },
     "metadata": {},
     "output_type": "display_data"
    }
   ],
   "source": [
    "d  = generate_s_shaped_data(8)\n",
    "print(d.x)\n",
    "print(d.t)\n",
    "x = d.x\n",
    "y = d.t\n",
    "\n",
    "plt.plot(x[y==-1,0], x[y==-1,1], \"o\")\n",
    "plt.plot(x[y==1,0], x[y==1,1], \"o\")"
   ]
  },
  {
   "cell_type": "markdown",
   "metadata": {},
   "source": [
    "### Perceptron algorithm"
   ]
  },
  {
   "cell_type": "markdown",
   "metadata": {},
   "source": [
    "Next we will train a binary classifier on this data. For this we’ll use the perceptron algorithm, which\n",
    "you should recall takes a model of the form\n",
    "$$\\begin{align*}\n",
    " s(\\mathbf{x}) &= w_0 + \\mathbf{w}' \\mathbf{x} \\\\\n",
    " predict(\\mathbf{x}) &= \\left\\{ \n",
    "\\begin{array}{cc} \n",
    "1, & \\mbox{if $s(\\mathbf{x}) \\geq 0$} \\\\\n",
    "-1, &  \\mbox{otherwise}\n",
    "\\end{array} \\right .\n",
    "\\end{align*}$$\n"
   ]
  },
  {
   "cell_type": "markdown",
   "metadata": {},
   "source": [
    "For simplicity, we will use the standard trick to incorporate the bias term $w_0$ into the weights $\\mathbf{w}$ by using a basis function $\\phi(x_1, x_2) = [1~x_1~x_2]'$ which adds an extra constant dimension. The model becomes\n",
    "$$ s(\\mathbf{x}) = \\mathbf{w}' \\phi(\\mathbf{x}) $$\n",
    "To do this, simply concatenate a column of 1s to the data matrix."
   ]
  },
  {
   "cell_type": "code",
   "execution_count": 4,
   "metadata": {},
   "outputs": [
    {
     "name": "stdout",
     "output_type": "stream",
     "text": [
      "(80, 3) -2.19663525046 13.59968158\n"
     ]
    }
   ],
   "source": [
    "Phi = np.column_stack([np.ones(x.shape[0]), x])\n",
    "print (Phi.shape, Phi.min(),Phi.max())\n"
   ]
  },
  {
   "cell_type": "markdown",
   "metadata": {},
   "source": [
    "Note that Phi now has $3$ columns. In this array, each training instance is a row and each column is a feature. From now on we will use Phi instead of x. Each row represents $\\phi(\\mathbf{x})$ for a training instance."
   ]
  },
  {
   "cell_type": "markdown",
   "metadata": {},
   "source": [
    "### Prediction function"
   ]
  },
  {
   "cell_type": "markdown",
   "metadata": {},
   "source": [
    "Next, write the prediction function (aka discriminant). This takes as input a data point (a row from Phi, i.e., a vector of 3 numbers) and the model parameters ($\\mathbf{w}$) and outputs predicted label $1$ or $-1$. Recall that if $s(\\mathbf{x})=0$, the predicted class is $1$."
   ]
  },
  {
   "cell_type": "code",
   "execution_count": 5,
   "metadata": {
    "collapsed": true
   },
   "outputs": [],
   "source": [
    "def perc_pred(phi, w):\n",
    "#     s = np.dot(phi, w) # over to you\n",
    "    s = np.sign(np.sign(np.dot(phi, w))+0.5)\n",
    "#     s = [1 if x>=0 else -1 for x in s]\n",
    "    return s"
   ]
  },
  {
   "cell_type": "markdown",
   "metadata": {},
   "source": [
    "Don't forget to test your prediction function with some examples! Note that it's more useful if it can support phi inputs both as vectors (returning a scalar, either +1/-1) and as matrices (returning a vector of +1/-1 values). The latter allows for you to supply a full dataset in one call."
   ]
  },
  {
   "cell_type": "code",
   "execution_count": 6,
   "metadata": {},
   "outputs": [
    {
     "name": "stdout",
     "output_type": "stream",
     "text": [
      "1.0\n"
     ]
    }
   ],
   "source": [
    "print(perc_pred([1, 0, 1], [1, 2, 3]))"
   ]
  },
  {
   "cell_type": "code",
   "execution_count": 7,
   "metadata": {},
   "outputs": [
    {
     "name": "stdout",
     "output_type": "stream",
     "text": [
      "[-1. -1. -1. -1.  1.  1.  1. -1. -1.  1.  1.  1.  1.  1.  1.  1.  1.  1.\n",
      "  1.  1.  1.  1.  1.  1.  1.  1.  1.  1.  1.  1.  1.  1.  1.  1.  1.  1.\n",
      "  1.  1.  1.  1.  1.  1.  1.  1.  1.  1.  1.  1.  1.  1.  1.  1.  1.  1.\n",
      "  1.  1.  1.  1.  1.  1.  1.  1.  1.  1.  1.  1.  1.  1.  1.  1.  1.  1.\n",
      "  1.  1.  1.  1.  1.  1.  1.  1.]\n"
     ]
    }
   ],
   "source": [
    "print(perc_pred(Phi, [1,2,3]))"
   ]
  },
  {
   "cell_type": "markdown",
   "metadata": {},
   "source": [
    "### Training algorithm"
   ]
  },
  {
   "cell_type": "markdown",
   "metadata": {},
   "source": [
    "Now for training algorithm which fits the weights, $\\mathbf{w}$, to the training data. Recall that this is an online training algorithm, and we are going to iterate through the training examples one by one. Moreover, we are going to do several cycles, called *epochs*, such that we iterate through the entire training set within one epoch. Write a function called *train* which takes the basis data matrix *Phi*, the labels *t* and a number of epochs. This should implement the following pseudo-code:"
   ]
  },
  {
   "cell_type": "markdown",
   "metadata": {},
   "source": [
    "> initialise weights to zero \n",
    "\n",
    "> repeat epoch times\n",
    "\n",
    "> >   for each x and t pair in the training set\n",
    "\n",
    "> > >       if model prediction and y differ, make weight update\n",
    "\n",
    "> return weights"
   ]
  },
  {
   "cell_type": "markdown",
   "metadata": {},
   "source": [
    "The weight update in the inner loop is $\\mathbf{w} \\leftarrow \\mathbf{w} + y \\phi(\\mathbf{x})$.\n",
    "What is the purpose of this update?"
   ]
  },
  {
   "cell_type": "code",
   "execution_count": 8,
   "metadata": {
    "collapsed": true
   },
   "outputs": [],
   "source": [
    "def train(data, target, epochs, w , eta= 1.):\n",
    "    for e in range(epochs):\n",
    "        for i in range(data.shape[0]):\n",
    "            yhat = perc_pred(data[i,:], w) # over to you?????\n",
    "            if yhat != target[i]:\n",
    "                w = w + np.dot(np.dot(eta,target[i]),data[i]) # over to you\n",
    "    return w"
   ]
  },
  {
   "cell_type": "markdown",
   "metadata": {},
   "source": [
    "Run your training algorithm for 5 epochs to learn the weights"
   ]
  },
  {
   "cell_type": "code",
   "execution_count": 9,
   "metadata": {},
   "outputs": [
    {
     "data": {
      "text/plain": [
       "array([-11.        ,  18.08020698,  -0.89515782])"
      ]
     },
     "execution_count": 9,
     "metadata": {},
     "output_type": "execute_result"
    }
   ],
   "source": [
    "w = np.zeros(Phi.shape[1])\n",
    "w = train(Phi, y, 5, w)\n",
    "w"
   ]
  },
  {
   "cell_type": "markdown",
   "metadata": {},
   "source": [
    "### Evaluation"
   ]
  },
  {
   "cell_type": "markdown",
   "metadata": {},
   "source": [
    "We are going to use the proportion of misclassified cases as the quality measure."
   ]
  },
  {
   "cell_type": "code",
   "execution_count": 15,
   "metadata": {},
   "outputs": [
    {
     "name": "stdout",
     "output_type": "stream",
     "text": [
      "0.7125\n"
     ]
    }
   ],
   "source": [
    "Accuracy = np.sum(perc_pred(Phi,w)==y) / float(y.shape[0]) # over to you\n",
    "print(Accuracy)"
   ]
  },
  {
   "cell_type": "markdown",
   "metadata": {},
   "source": [
    "Rerun your training with a larger number of epochs (10, 100, 1000), and evaluate how the accuracy changes. "
   ]
  },
  {
   "cell_type": "markdown",
   "metadata": {},
   "source": [
    "### Heldout evaluation"
   ]
  },
  {
   "cell_type": "markdown",
   "metadata": {},
   "source": [
    "Evaluating on the training data is not a good idea in general, other than for debugging your algorithms. (Can you explain why?) We are going to generate another synthetic data thus essentially creating a fresh *heldout set*. What is the accuracy on this heldout data, and how does this compare to training accuracy?"
   ]
  },
  {
   "cell_type": "code",
   "execution_count": 11,
   "metadata": {},
   "outputs": [
    {
     "data": {
      "image/png": "[encoded data removed]",
      "text/plain": [
       "<matplotlib.figure.Figure at 0x21187cd23c8>"
      ]
     },
     "metadata": {},
     "output_type": "display_data"
    }
   ],
   "source": [
    "d_held = generate_s_shaped_data(8)\n",
    "x_heldout = d_held.x \n",
    "y_heldout = d_held.t\n",
    "\n",
    "\n",
    "plt.plot(x[y==-1,0], x[y==-1,1], \"o\")\n",
    "plt.plot(x[y==1,0], x[y==1,1], \"o\")\n",
    "\n",
    "# plot the heldout data points\n",
    "plt.plot(x_heldout[y_heldout==-1,0], x_heldout[y_heldout==-1,1], \"x\")\n",
    "plt.plot(x_heldout[y_heldout==1,0], x_heldout[y_heldout==1,1], \"x\")\n",
    "\n",
    "\n",
    "Phi_heldout = np.column_stack([np.ones(x_heldout.shape[0]), x_heldout])"
   ]
  },
  {
   "cell_type": "markdown",
   "metadata": {},
   "source": [
    "Now, let's calculate the accuracy measure for the held-out set"
   ]
  },
  {
   "cell_type": "code",
   "execution_count": 16,
   "metadata": {},
   "outputs": [
    {
     "name": "stdout",
     "output_type": "stream",
     "text": [
      "0.725\n"
     ]
    }
   ],
   "source": [
    "Accuracy = np.sum(perc_pred(Phi_heldout,w)==y_heldout) / float(y_heldout.shape[0]) # over to you\n",
    "print(Accuracy)"
   ]
  },
  {
   "cell_type": "markdown",
   "metadata": {},
   "source": [
    "Inspect the weights learnt in training. Do these match your intuitions? Plot the decision boundary represented by the weights, $\\mathbf{w}' \\phi(\\mathbf{x}) = 0$. Solving for $x_2$ as a function of $x_1$ yields $x_2 = -\\frac{w_0}{w_2} - \\frac{w_1}{w_2} x_1$. Note that you can *linspace* and *plot* for displaying the line. "
   ]
  },
  {
   "cell_type": "code",
   "execution_count": 13,
   "metadata": {},
   "outputs": [
    {
     "name": "stdout",
     "output_type": "stream",
     "text": [
      "[-11.          18.08020698  -0.89515782]\n"
     ]
    },
    {
     "data": {
      "text/plain": [
       "<matplotlib.text.Text at 0x21187efd390>"
      ]
     },
     "execution_count": 13,
     "metadata": {},
     "output_type": "execute_result"
    },
    {
     "data": {
      "image/png": "[encoded data removed]",
      "text/plain": [
       "<matplotlib.figure.Figure at 0x21187e448d0>"
      ]
     },
     "metadata": {},
     "output_type": "display_data"
    }
   ],
   "source": [
    "x1 = np.linspace(0, 6, 100)\n",
    "print(w)\n",
    "x2 = - (w[0] / w[2]) - ((w[1] / w[2]) * x1)\n",
    "\n",
    "\n",
    "\n",
    "# plot the training data points\n",
    "plt.plot(x[y==-1,0], x[y==-1,1], \"o\")\n",
    "plt.plot(x[y==1,0], x[y==1,1], \"o\")\n",
    "\n",
    "# plot the heldout data points\n",
    "plt.plot(x_heldout[y_heldout==-1,0], x_heldout[y_heldout==-1,1], \"x\")\n",
    "plt.plot(x_heldout[y_heldout==1,0], x_heldout[y_heldout==1,1], \"x\")\n",
    "\n",
    "# plot the decision boundary \n",
    "plt.plot(x1, x2)\n",
    "xlabel('x1')\n",
    "ylabel('x2')"
   ]
  },
  {
   "cell_type": "markdown",
   "metadata": {},
   "source": [
    "How well does the decision boundary separate the points in the two classes? Where do you think the decision boundary should go? And how does the boundary change as you train for longer (more epochs)? Plot train and heldout errors as a function of number epochs. Note that careful tuning of the learning rate is needed to get sensible behaviour. Using $\\eta = \\frac{1}{1+e}$ where $e$ is the epoch number often works well."
   ]
  },
  {
   "cell_type": "code",
   "execution_count": 14,
   "metadata": {},
   "outputs": [
    {
     "ename": "TypeError",
     "evalue": "float() argument must be a string or a number, not 'ellipsis'",
     "output_type": "error",
     "traceback": [
      "\u001b[1;31m---------------------------------------------------------------------------\u001b[0m",
      "\u001b[1;31mTypeError\u001b[0m                                 Traceback (most recent call last)",
      "\u001b[1;32m<ipython-input-14-1d9811bf226a>\u001b[0m in \u001b[0;36m<module>\u001b[1;34m()\u001b[0m\n\u001b[0;32m      8\u001b[0m     \u001b[0mw_hat\u001b[0m \u001b[1;33m=\u001b[0m \u001b[1;33m...\u001b[0m \u001b[1;31m# over to you\u001b[0m\u001b[1;33m\u001b[0m\u001b[0m\n\u001b[0;32m      9\u001b[0m \u001b[1;33m\u001b[0m\u001b[0m\n\u001b[1;32m---> 10\u001b[1;33m     \u001b[0mtrain_error\u001b[0m\u001b[1;33m[\u001b[0m\u001b[0me\u001b[0m\u001b[1;33m]\u001b[0m \u001b[1;33m=\u001b[0m \u001b[1;33m...\u001b[0m \u001b[1;31m# over to you\u001b[0m\u001b[1;33m\u001b[0m\u001b[0m\n\u001b[0m\u001b[0;32m     11\u001b[0m     \u001b[0mheldout_error\u001b[0m\u001b[1;33m[\u001b[0m\u001b[0me\u001b[0m\u001b[1;33m]\u001b[0m \u001b[1;33m=\u001b[0m \u001b[1;33m...\u001b[0m \u001b[1;31m# over to you\u001b[0m\u001b[1;33m\u001b[0m\u001b[0m\n\u001b[0;32m     12\u001b[0m \u001b[1;33m\u001b[0m\u001b[0m\n",
      "\u001b[1;31mTypeError\u001b[0m: float() argument must be a string or a number, not 'ellipsis'"
     ]
    }
   ],
   "source": [
    "w_hat = np.zeros(Phi.shape[1])\n",
    "T = 60\n",
    "train_error = np.zeros(T)\n",
    "heldout_error = np.zeros(T)\n",
    "for e in range(T):\n",
    "    # here we use a learning rate, which decays with each epoch\n",
    "    lr = 1./(1+e)\n",
    "    w_hat = ... # over to you\n",
    "    \n",
    "    train_error[e] = ... # over to you\n",
    "    heldout_error[e] = ... # over to you\n",
    "\n",
    "plot(train_error, label = 'Train Error')\n",
    "plot(heldout_error, label = 'Held-out Error')\n",
    "plt.legend()\n",
    "xlabel('Epochs')\n",
    "ylabel('Error')"
   ]
  },
  {
   "cell_type": "markdown",
   "metadata": {},
   "source": [
    "Does the heldout error track the training error closely? Is the model (i.e., weights at a given epoch) on the training set the same as the best model on the heldout set?\n",
    "\n",
    "Now, let's plot the decision boundary using w_hat"
   ]
  },
  {
   "cell_type": "code",
   "execution_count": null,
   "metadata": {
    "collapsed": true
   },
   "outputs": [],
   "source": [
    "x1 = np.linspace(2, 10, 100)\n",
    "print(w_hat)\n",
    "x2 = - (w_hat[0] / w_hat[2]) - ((w_hat[1] / w_hat[2]) * x1)\n",
    "\n",
    "# plot the training data points\n",
    "plt.plot(x[y==-1,0], x[y==-1,1], \"o\")\n",
    "plt.plot(x[y==1,0], x[y==1,1], \"o\")\n",
    "\n",
    "# plot the heldout data points\n",
    "plt.plot(x_heldout[y_heldout==-1,0], x_heldout[y_heldout==-1,1], \"x\")\n",
    "plt.plot(x_heldout[y_heldout==1,0], x_heldout[y_heldout==1,1], \"x\")\n",
    "\n",
    "# plot the decision boundary \n",
    "plt.plot(x1, x2)\n",
    "xlabel('x1')\n",
    "ylabel('x2')"
   ]
  },
  {
   "cell_type": "markdown",
   "metadata": {},
   "source": [
    "Now generate training and heldout datasets that are not linearly separable, and investigate what happens to training and heldout errors with increasing number of epochs."
   ]
  },
  {
   "cell_type": "code",
   "execution_count": null,
   "metadata": {
    "collapsed": true
   },
   "outputs": [],
   "source": []
  }
 ],
 "metadata": {
  "kernelspec": {
   "display_name": "Python 3",
   "language": "python",
   "name": "python3"
  },
  "language_info": {
   "codemirror_mode": {
    "name": "ipython",
    "version": 3
   },
   "file_extension": ".py",
   "mimetype": "text/x-python",
   "name": "python",
   "nbconvert_exporter": "python",
   "pygments_lexer": "ipython3",
   "version": "3.5.3"
  }
 },
 "nbformat": 4,
 "nbformat_minor": 1
}
